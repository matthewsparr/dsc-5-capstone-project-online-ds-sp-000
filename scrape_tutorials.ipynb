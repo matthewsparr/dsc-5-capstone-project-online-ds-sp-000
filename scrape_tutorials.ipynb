{
 "cells": [
  {
   "cell_type": "code",
   "execution_count": 31,
   "metadata": {},
   "outputs": [],
   "source": [
    "import urllib\n",
    "import requests\n",
    "from bs4 import BeautifulSoup\n",
    "import re\n",
    "import ast"
   ]
  },
  {
   "cell_type": "code",
   "execution_count": 32,
   "metadata": {},
   "outputs": [],
   "source": [
    "def open_tutorial_text():\n",
    "    tutorials = open('tutorials.txt', 'w')\n",
    "    return tutorials"
   ]
  },
  {
   "cell_type": "code",
   "execution_count": 44,
   "metadata": {},
   "outputs": [],
   "source": [
    "def download_tutorial(url):\n",
    "    #text = urllib.request.urlopen(url).read()\n",
    "    headers = {'User-Agent': 'Mozilla/5.0 (Macintosh; Intel Mac OS X 10_11_6) AppleWebKit/537.36 (KHTML, like Gecko) Chrome/61.0.3163.100 Safari/537.36'}\n",
    "    r = requests.get(url, headers=headers)\n",
    "    soup = BeautifulSoup(r.content, \"lxml\")\n",
    "    texts = soup.findAll(text=True, strip=True)\n",
    "    x = \"\"\n",
    "    for i in texts:\n",
    "        x = x + i\n",
    "    #text = str(soup.find_all(text=True)).encode(\"utf-8\").decode('unicode_escape').encode('utf-8')\n",
    "    \n",
    "    import urllib\n",
    "    req = urllib.request.Request(url,headers={'User-Agent': 'Mozilla/5.0'}) \n",
    "    text = urllib.request.urlopen(req).read().decode('utf-8')\n",
    "    return text"
   ]
  },
  {
   "cell_type": "code",
   "execution_count": 34,
   "metadata": {},
   "outputs": [],
   "source": [
    "def add_tutorial_to_file(tutorials, text):\n",
    "    tutorials.write(text)"
   ]
  },
  {
   "cell_type": "code",
   "execution_count": 35,
   "metadata": {},
   "outputs": [],
   "source": [
    "def get_links(link):\n",
    "\n",
    "    return_links = []\n",
    "\n",
    "    r = requests.get(link)\n",
    "\n",
    "    soup = BeautifulSoup(r.content, \"lxml\")\n",
    "\n",
    "    if r.status_code != 200:\n",
    "        print(\"Error. Something is wrong here\")\n",
    "    else:\n",
    "        for link in soup.findAll('a', attrs={'href': re.compile(\"^\")}):\n",
    "            address = link.get('href')\n",
    "            if ('.txt' in address):\n",
    "                return_links.append('https://www.ifarchive.org/' + address.replace('../../../', ''))\n",
    "    return return_links"
   ]
  },
  {
   "cell_type": "code",
   "execution_count": 36,
   "metadata": {},
   "outputs": [],
   "source": [
    "links = get_links(\"https://www.ifarchive.org/indexes/if-archive/solutions/\")"
   ]
  },
  {
   "cell_type": "code",
   "execution_count": 46,
   "metadata": {},
   "outputs": [
    {
     "name": "stdout",
     "output_type": "stream",
     "text": [
      "0 files added\n",
      "1 files added\n",
      "2 files added\n",
      "3 files added\n",
      "4 files added\n",
      "5 files added\n",
      "6 files added\n",
      "7 files added\n",
      "8 files added\n",
      "9 files added\n",
      "10 files added\n",
      "11 files added\n",
      "12 files added\n",
      "13 files added\n",
      "14 files added\n",
      "15 files added\n",
      "16 files added\n",
      "17 files added\n",
      "file didn't work\n",
      "18 files added\n",
      "file didn't work\n",
      "19 files added\n",
      "file didn't work\n",
      "20 files added\n",
      "21 files added\n",
      "22 files added\n",
      "23 files added\n",
      "24 files added\n",
      "25 files added\n",
      "26 files added\n",
      "27 files added\n",
      "28 files added\n",
      "29 files added\n",
      "30 files added\n",
      "31 files added\n",
      "file didn't work\n",
      "32 files added\n",
      "33 files added\n",
      "34 files added\n",
      "file didn't work\n",
      "35 files added\n",
      "36 files added\n",
      "37 files added\n",
      "38 files added\n",
      "39 files added\n",
      "40 files added\n",
      "41 files added\n",
      "42 files added\n",
      "43 files added\n",
      "file didn't work\n",
      "44 files added\n",
      "45 files added\n",
      "46 files added\n",
      "47 files added\n",
      "48 files added\n",
      "49 files added\n",
      "50 files added\n",
      "51 files added\n",
      "52 files added\n",
      "53 files added\n",
      "54 files added\n",
      "55 files added\n",
      "56 files added\n",
      "57 files added\n",
      "58 files added\n",
      "59 files added\n",
      "60 files added\n",
      "61 files added\n",
      "62 files added\n",
      "63 files added\n",
      "64 files added\n",
      "65 files added\n",
      "66 files added\n",
      "file didn't work\n",
      "67 files added\n"
     ]
    }
   ],
   "source": [
    "count = 0\n",
    "tutorials = open_tutorial_text()\n",
    "for i in links:\n",
    "    try:\n",
    "        add_tutorial_to_file(tutorials,download_tutorial(i))\n",
    "        print(str(count) + \" files added\")\n",
    "        count += 1\n",
    "    except:\n",
    "        print(\"file didn't work\")"
   ]
  },
  {
   "cell_type": "code",
   "execution_count": 47,
   "metadata": {},
   "outputs": [],
   "source": [
    "tutorials.close()"
   ]
  },
  {
   "cell_type": "code",
   "execution_count": null,
   "metadata": {},
   "outputs": [],
   "source": []
  }
 ],
 "metadata": {
  "kernelspec": {
   "display_name": "Python 3",
   "language": "python",
   "name": "python3"
  },
  "language_info": {
   "codemirror_mode": {
    "name": "ipython",
    "version": 3
   },
   "file_extension": ".py",
   "mimetype": "text/x-python",
   "name": "python",
   "nbconvert_exporter": "python",
   "pygments_lexer": "ipython3",
   "version": "3.5.6"
  }
 },
 "nbformat": 4,
 "nbformat_minor": 2
}
