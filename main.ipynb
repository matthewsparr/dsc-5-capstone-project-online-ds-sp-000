{
 "cells": [
  {
   "cell_type": "code",
   "execution_count": 1,
   "metadata": {
    "scrolled": true
   },
   "outputs": [
    {
     "name": "stderr",
     "output_type": "stream",
     "text": [
      "[nltk_data] Downloading package averaged_perceptron_tagger to\n",
      "[nltk_data]     C:\\Users\\sparr\\AppData\\Roaming\\nltk_data...\n",
      "[nltk_data]   Package averaged_perceptron_tagger is already up-to-\n",
      "[nltk_data]       date!\n",
      "[nltk_data] Downloading package punkt to\n",
      "[nltk_data]     C:\\Users\\sparr\\AppData\\Roaming\\nltk_data...\n",
      "[nltk_data]   Package punkt is already up-to-date!\n",
      "Using TensorFlow backend.\n"
     ]
    }
   ],
   "source": [
    "from subprocess import Popen, PIPE, STDOUT\n",
    "from random import randint\n",
    "import binascii\n",
    "import os\n",
    "from queue import Queue, Empty\n",
    "from threading  import Thread\n",
    "from time import sleep\n",
    "import random\n",
    "import nltk\n",
    "nltk.download('averaged_perceptron_tagger')\n",
    "from itertools import permutations, combinations\n",
    "import spacy\n",
    "from spacy.matcher import Matcher\n",
    "from spacy.attrs import POS\n",
    "nlp = spacy.load('en_core_web_sm')\n",
    "import pandas as pd\n",
    "nltk.download('punkt')\n",
    "import numpy as np\n",
    "import gensim\n",
    "from gensim.models import KeyedVectors\n",
    "from gensim.models import Word2Vec\n",
    "from nltk.tokenize import sent_tokenize, word_tokenize\n",
    "import timeit\n",
    "from keras.models import Model\n",
    "from keras.layers import *   \n",
    "from progressbar import * \n",
    "from keras.preprocessing.text import one_hot, Tokenizer\n",
    "from keras.preprocessing.sequence import pad_sequences\n",
    "from keras.models import Sequential\n",
    "import re\n",
    "from keras.preprocessing.sequence import pad_sequences\n",
    "from agent import DQNAgent\n",
    "import importlib\n",
    "from collections import deque"
   ]
  },
  {
   "cell_type": "code",
   "execution_count": 330,
   "metadata": {},
   "outputs": [],
   "source": [
    "basic_actions = [\n",
    "           'go north',\n",
    "           'go south',\n",
    "           'go west',\n",
    "           'go east',\n",
    "           'go northeast',\n",
    "           'go northwest',\n",
    "           'go southeast',\n",
    "           'go southwest',\n",
    "           'd',\n",
    "           'u'\n",
    "]\n",
    "\n",
    "directions = ['north', 'south', 'east', 'west', 'northwest', 'northeast', 'southwest', 'southeast']\n",
    "\n",
    "action_space = set()\n",
    "\n",
    "for action in basic_actions:\n",
    "    action_space.add(action)\n",
    "\n",
    "command1_actions = ['open OBJ',\n",
    " 'get OBJ',\n",
    " 'set OBJ',\n",
    " 'hit OBJ',\n",
    " 'eat OBJ',\n",
    " 'put OBJ',\n",
    " 'cut OBJ',\n",
    " 'dig OBJ',\n",
    " 'ask OBJ',\n",
    " 'fix OBJ',\n",
    " 'make OBJ',\n",
    " 'wear OBJ',\n",
    " 'move OBJ',\n",
    " 'kick OBJ',\n",
    " 'kill OBJ',\n",
    " 'find OBJ',\n",
    " 'play OBJ',\n",
    " 'feel OBJ',\n",
    " 'hide OBJ',\n",
    " 'read OBJ',\n",
    " 'fill OBJ',\n",
    " 'go OBJ',\n",
    " 'flip OBJ',\n",
    " 'burn OBJ',\n",
    " 'pick OBJ',\n",
    " 'pour OBJ',\n",
    " 'pull OBJ',\n",
    " 'apply OBJ',\n",
    " 'leave OBJ',\n",
    " 'ask OBJ',\n",
    " 'break OBJ',\n",
    " 'enter OBJ',\n",
    " 'curse OBJ',\n",
    " 'shake OBJ',\n",
    " 'burn OBJ',\n",
    " 'inflate OBJ',\n",
    " 'brandish OBJ',\n",
    " 'donate OBJ',\n",
    " 'squeeze OBJ',\n",
    " 'attach OBJ',\n",
    " 'find OBJ',\n",
    " 'banish OBJ',\n",
    " 'read OBJ',\n",
    " 'enchant OBJ',\n",
    " 'feel OBJ',\n",
    " 'pour OBJ']\n",
    "                  \n",
    "\n",
    "command2_actions = ['pour OBJ on DCT',\n",
    " 'hide OBJ in DCT',\n",
    " 'pour OBJ in DCT',\n",
    " 'move OBJ in DCT',\n",
    " 'hide OBJ on DCT',\n",
    " 'flip OBJ for DCT',\n",
    " 'fix OBJ with DCT',\n",
    " 'spray OBJ on DCT',\n",
    " 'dig OBJ with DCT',\n",
    " 'cut OBJ with DCT',\n",
    " 'pick OBJ with DCT',\n",
    " 'squeeze OBJ on DCT',\n",
    " 'pour OBJ from DCT',\n",
    " 'fill OBJ with DCT',\n",
    " 'brandish OBJ at DCT',\n",
    " 'burn OBJ with DCT',\n",
    " 'flip OBJ with DCT',\n",
    " 'read OBJ with DCT',\n",
    " 'hide OBJ under DCT',\n",
    " 'carry OBJ from DCT',\n",
    " 'inflate OBJ with DCT',\n",
    " 'unlock OBJ with DCT',\n",
    " 'give OBJ to DCT', \n",
    " 'carry OBJ to DCT',\n",
    " 'spray OBJ with DCT',\n",
    "\n",
    "]\n",
    "                    \n",
    "\n",
    "filtered_tokens = ['Score', 'Moves']"
   ]
  },
  {
   "cell_type": "code",
   "execution_count": null,
   "metadata": {},
   "outputs": [],
   "source": []
  },
  {
   "cell_type": "code",
   "execution_count": 3,
   "metadata": {},
   "outputs": [
    {
     "data": {
      "text/plain": [
       "['Score', 'Moves']"
      ]
     },
     "execution_count": 3,
     "metadata": {},
     "output_type": "execute_result"
    }
   ],
   "source": [
    "filtered_tokens"
   ]
  },
  {
   "cell_type": "code",
   "execution_count": 4,
   "metadata": {},
   "outputs": [],
   "source": [
    "def enqueue_output(out, queue):\n",
    "    for line in iter(out.readline, b''):\n",
    "        queue.put(line)\n",
    "    out.close()"
   ]
  },
  {
   "cell_type": "code",
   "execution_count": 5,
   "metadata": {},
   "outputs": [],
   "source": [
    "def start_game():\n",
    "    score = 0\n",
    "    moves = 0\n",
    "    p = Popen(['dfrotz.exe','zork1.z5'], stdin=PIPE, stdout=PIPE, stderr=PIPE, shell=True)\n",
    "    q = Queue()\n",
    "    t = Thread(target=enqueue_output, args=(p.stdout, q))\n",
    "    t.daemon = True # thread dies with the program\n",
    "    t.start()\n",
    "    sleep(0.1)\n",
    "    return(p, q, t, score, moves)"
   ]
  },
  {
   "cell_type": "code",
   "execution_count": 247,
   "metadata": {},
   "outputs": [],
   "source": [
    "# read line without blocking\n",
    "def readLine(q):\n",
    "    cont = True\n",
    "    narrative = \"\"\n",
    "    while cont:\n",
    "        try:  line = q.get_nowait() # or q.get(timeout=.1)\n",
    "        except Empty:\n",
    "            cont = False\n",
    "        else: \n",
    "            narrative = narrative + line.decode(\"utf-8\").replace('\\n', \" \").replace('\\r', \" \")\n",
    "    if ('840726' in narrative): ## Opening narrative\n",
    "        narrative = narrative[narrative.index('840726') + len('840726'):]\n",
    "    try:\n",
    "        score, moves = grab_score_moves(narrative)\n",
    "        narrative = narrative[narrative.index('Moves: ')+len('Moves:')+5:-1].strip()\n",
    "    except:  ## not valid move\n",
    "        pass\n",
    "    sleep(0.1)\n",
    "    return(narrative, score, moves)"
   ]
  },
  {
   "cell_type": "code",
   "execution_count": 7,
   "metadata": {},
   "outputs": [],
   "source": [
    "def look_surroundings(p):\n",
    "    perform_action('look', p)"
   ]
  },
  {
   "cell_type": "code",
   "execution_count": 8,
   "metadata": {},
   "outputs": [],
   "source": [
    "def check_inventory(p):\n",
    "    perform_action('inventory', p)"
   ]
  },
  {
   "cell_type": "code",
   "execution_count": 9,
   "metadata": {},
   "outputs": [],
   "source": [
    "def grab_score_moves(narrative):\n",
    "    try:\n",
    "        score = int(narrative[narrative.index('Score: ') + len('Score: '):][0:3].strip())\n",
    "        moves = int(narrative[narrative.index('Moves: ') + len('Moves: '):][0:3].strip())\n",
    "    except:  ## not valid move\n",
    "        score = 0\n",
    "        moves = 0\n",
    "    return(score, moves)"
   ]
  },
  {
   "cell_type": "code",
   "execution_count": null,
   "metadata": {},
   "outputs": [],
   "source": []
  },
  {
   "cell_type": "code",
   "execution_count": 10,
   "metadata": {},
   "outputs": [],
   "source": [
    "def detect_nouns(narrative):  #grabs nouns and adjective noun pairs from narrative\n",
    "    \n",
    "    processed = preprocess(narrative)\n",
    "    pattern = 'NP: {<JJ>*<NN>}'\n",
    "    cp = nltk.RegexpParser(pattern)\n",
    "    cs = cp.parse(processed)\n",
    "    noun_list =  [noun.text for noun in nlp(narrative).noun_chunks]\n",
    "    for direction in directions:\n",
    "        if direction in noun_list:\n",
    "            noun_list.remove(direction)\n",
    "    return(noun_list)\n",
    "    \n",
    "    # function to test if something is a noun\n",
    "    #is_noun = lambda pos: pos[:2] == 'NN'\n",
    "    # do the nlp stuff\n",
    "    #tokenized = nltk.word_tokenize(narrative)\n",
    "    #nouns = [word.lower() for (word, pos) in nltk.pos_tag(tokenized) if is_noun(pos)]\n",
    "    #return(nouns)"
   ]
  },
  {
   "cell_type": "code",
   "execution_count": 239,
   "metadata": {},
   "outputs": [],
   "source": [
    "def get_nouns(narrative):\n",
    "    matcher = Matcher(nlp.vocab)\n",
    "    matcher.add('Noun phrase', None, [{POS: 'NOUN'}])\n",
    "    doc = nlp(narrative)\n",
    "    matches = matcher(doc)\n",
    "    noun_list = [doc[start:end].text for id, start, end in matches]\n",
    "    for direction in directions:\n",
    "        if direction in noun_list:\n",
    "            noun_list.remove(direction)\n",
    "    for invalid in invalid_nouns:\n",
    "        if invalid in noun_list:\n",
    "            noun_list.remove(invalid)\n",
    "    return(noun_list)"
   ]
  },
  {
   "cell_type": "code",
   "execution_count": 12,
   "metadata": {},
   "outputs": [],
   "source": [
    "def generate_action_tuples(nouns):\n",
    "    possible_actions = []\n",
    "    similarities = []\n",
    "    for i in basic_actions:\n",
    "        possible_actions.append(i)\n",
    "        similarities.append(.5)\n",
    "    for i in nouns:\n",
    "        for action1 in command1_actions:   ## first loop replaces 'x' in each action in command1_actions\n",
    "            action_to_add = action1.replace('OBJ', i)\n",
    "            possible_actions.append(action_to_add)\n",
    "            try:\n",
    "                similarities.append(model.similarity(word_tokenize(action_to_add)[0], i))\n",
    "            except:\n",
    "                similarities.append(0.02)\n",
    "        noun_permutations = list(permutations(nouns, 2))    ## second loop replaces 'x' and 'y' in each action in command2_actions\n",
    "        for action2 in command2_actions:\n",
    "            for perm in noun_permutations:\n",
    "                if (perm[0] == perm[1]):  ## ignore same noun acting on itself\n",
    "                    pass\n",
    "                else:\n",
    "                    action_to_add = action2.replace('OBJ', perm[0])\n",
    "                    action_to_add = action_to_add.replace('DCT', perm[1])\n",
    "                    possible_actions.append(action_to_add)\n",
    "                    try:\n",
    "                        similarities.append(model.similarity(word_tokenize(action_to_add)[0], i))\n",
    "                    except:\n",
    "                        similarities.append(0.02)\n",
    "\n",
    "    return possible_actions"
   ]
  },
  {
   "cell_type": "code",
   "execution_count": 13,
   "metadata": {},
   "outputs": [],
   "source": [
    "from numpy.random import choice\n",
    "def selectOne(action_space, similarities):\n",
    "    return action_space[choice(len(action_space), p=similarities)]"
   ]
  },
  {
   "cell_type": "code",
   "execution_count": 14,
   "metadata": {},
   "outputs": [],
   "source": [
    "import math\n",
    "def add_to_action_space(action_space, actions):\n",
    "    similarities = []\n",
    "    \n",
    "    for action in actions:\n",
    "        action_space.add(action)\n",
    "    for action in action_space:\n",
    "        words = word_tokenize(action)\n",
    "        verb = words[0]\n",
    "        if verb in basic_actions:\n",
    "            similarities.append(0.5)\n",
    "        elif len(words)<3:\n",
    "            noun = word_tokenize(action)[1]\n",
    "            try:\n",
    "                sim_score = model.similarity(verb, noun)**4\n",
    "                if sim_score < 0:\n",
    "                    sim_score = 0.05**4\n",
    "                similarities.append(sim_score)\n",
    "            except:\n",
    "                similarities.append(0.02**4)\n",
    "                \n",
    "        else: \n",
    "            try:\n",
    "                noun1 = word_tokenize(action)[1]\n",
    "                prep = word_tokenize(action)[2]\n",
    "                noun2 = word_tokenize(action)[3]\n",
    "                sim_score1 = model.similarity(verb, noun1)\n",
    "                sim_score2 = model.similarity(prep, noun2)\n",
    "                sim_score = ((sim_score1 + sim_score2)/2)**4\n",
    "                if sim_score < 0:\n",
    "                    sim_score = 0.05\n",
    "                similarities.append(sim_score**4)\n",
    "            except:\n",
    "                similarities.append(0.02**4)\n",
    "            \n",
    "\n",
    "    return action_space, similarities"
   ]
  },
  {
   "cell_type": "code",
   "execution_count": 15,
   "metadata": {},
   "outputs": [],
   "source": [
    "def perform_action(command, p):\n",
    "    p.stdin.write(bytes(command+ \"\\n\", 'ascii'))\n",
    "    p.stdin.flush()\n",
    "    sleep(0.1)## wait for action to register"
   ]
  },
  {
   "cell_type": "code",
   "execution_count": 16,
   "metadata": {},
   "outputs": [],
   "source": [
    "def kill_game(p):\n",
    "    p.terminate()\n",
    "    p.kill()"
   ]
  },
  {
   "cell_type": "code",
   "execution_count": 17,
   "metadata": {},
   "outputs": [],
   "source": [
    "def choose_random_action(p, q, action_space):\n",
    "    action = random.sample(action_space, 1)\n",
    "    return action[0]"
   ]
  },
  {
   "cell_type": "code",
   "execution_count": 18,
   "metadata": {},
   "outputs": [],
   "source": [
    "def buildWord2VecModel():\n",
    "    #model = Word2Vec.load('tutorial.model')\n",
    "    f = open('tutorials_2.txt', 'r')\n",
    "    tutorials = f.read()\n",
    "    sentences = word_tokenize(tutorials)\n",
    "    model = Word2Vec([sentences])\n",
    "    return model"
   ]
  },
  {
   "cell_type": "code",
   "execution_count": 315,
   "metadata": {},
   "outputs": [],
   "source": [
    "def preprocess(text):\n",
    "    # fix bad newlines (replace with spaces), unify quotes\n",
    "    text = text.strip()\n",
    "    text = text.replace('\\\\n', ' ').replace('‘', '\\'').replace('’', '\\'').replace('”', '\"').replace('“', '\"')\n",
    "    # convert to lowercase\n",
    "    text = text.lower()\n",
    "    # remove all characters except alphanum, spaces and - ' \"\n",
    "    text = re.sub('[^ \\-\\sA-Za-z0-9\"\\']+', ' ', text)\n",
    "    # split numbers into digits to avoid infinite vocabulary size if random numbers are present:\n",
    "    text = re.sub('[0-9]', ' \\g<0> ', text)\n",
    "    # expand unambiguous 'm, 't, 're, ... expressions\n",
    "    text = text. \\\n",
    "            replace('\\'m ', ' am '). \\\n",
    "            replace('\\'re ', ' are '). \\\n",
    "            replace('won\\'t', 'will not'). \\\n",
    "            replace('n\\'t', ' not'). \\\n",
    "            replace('\\'ll ', ' will '). \\\n",
    "            replace('\\'ve ', ' have '). \\\n",
    "            replace('\\'s', ' \\'s')\n",
    "    return text"
   ]
  },
  {
   "cell_type": "code",
   "execution_count": 26,
   "metadata": {},
   "outputs": [],
   "source": [
    "def init_tokenizer(vocab_size):\n",
    "    tokenizer = Tokenizer(num_words=vocab_size)\n",
    "    return tokenizer"
   ]
  },
  {
   "cell_type": "code",
   "execution_count": 27,
   "metadata": {},
   "outputs": [],
   "source": [
    "def vectorizeText(text, tokenizer):\n",
    "    text = preprocess(text)\n",
    "    words = word_tokenize(text)\n",
    "    tokenizer.fit_on_texts(words)\n",
    "    seq = tokenizer.texts_to_sequences(words)\n",
    "    sent = []\n",
    "    for i in seq:\n",
    "        sent.append(i[0])\n",
    "    padded = pad_sequences([sent], maxlen=50, padding='post')\n",
    "    return (padded)"
   ]
  },
  {
   "cell_type": "code",
   "execution_count": 319,
   "metadata": {},
   "outputs": [],
   "source": [
    "def calculate_reward(story, moves_count, new_narrative):\n",
    "    reward = 0\n",
    "    \n",
    "    ## add reward from score in game\n",
    "    if(moves_count != 0):\n",
    "        new_score = int(story['Score'][moves_count]) - int(story['Score'][moves_count-1])\n",
    "        reward = reward + new_score*5\n",
    "    \n",
    "    ## add small negative reward for each move\n",
    "    reward = reward - 1\n",
    "    \n",
    "    ## add reward for picking up / using items\n",
    "    if(moves_count != 0):\n",
    "        pre_inventory = story['Inventory'][moves_count-1]\n",
    "        inventory = story['Inventory'][moves_count]\n",
    "        if pre_inventory != inventory:  ## inventory changed\n",
    "            reward = reward + 20\n",
    "            print('inventory changed')\n",
    "\n",
    "            \n",
    "    ## add reward for discovering new areas\n",
    "    if new_narrative not in unique_narratives:  ## new location\n",
    "        reward = reward + 10\n",
    "        print('discovered new area')\n",
    "\n",
    "    \n",
    "    ## detect and remove invalid nouns from future turns\n",
    "    response = str(story['Response'][moves_count]).lower()\n",
    "    if('don\\'t know the word' in response):\n",
    "        startIndex = response.find('\\\"')\n",
    "        endIndex = response.find('\\\"', startIndex + 1)\n",
    "        word = response[startIndex+1:endIndex]\n",
    "        print('Didn\\'t know the word ' + word)\n",
    "        invalid_nouns.append(word)\n",
    "    print(reward)\n",
    "    return reward"
   ]
  },
  {
   "cell_type": "code",
   "execution_count": 304,
   "metadata": {},
   "outputs": [],
   "source": [
    "model = buildWord2VecModel()"
   ]
  },
  {
   "cell_type": "code",
   "execution_count": 265,
   "metadata": {},
   "outputs": [],
   "source": []
  },
  {
   "cell_type": "code",
   "execution_count": 320,
   "metadata": {},
   "outputs": [],
   "source": [
    "tokenizer = init_tokenizer(500)"
   ]
  },
  {
   "cell_type": "code",
   "execution_count": 321,
   "metadata": {},
   "outputs": [],
   "source": [
    "import agent"
   ]
  },
  {
   "cell_type": "code",
   "execution_count": 322,
   "metadata": {},
   "outputs": [
    {
     "data": {
      "text/plain": [
       "<module 'agent' from 'C:\\\\Users\\\\sparr\\\\Desktop\\\\datascience\\\\dsc-5-capstone-project-online-ds-sp-000\\\\agent.py'>"
      ]
     },
     "execution_count": 322,
     "metadata": {},
     "output_type": "execute_result"
    }
   ],
   "source": [
    "importlib.reload(agent)"
   ]
  },
  {
   "cell_type": "code",
   "execution_count": 323,
   "metadata": {},
   "outputs": [],
   "source": [
    "from agent import DQNAgent"
   ]
  },
  {
   "cell_type": "code",
   "execution_count": 324,
   "metadata": {},
   "outputs": [],
   "source": [
    "agent = DQNAgent()"
   ]
  },
  {
   "cell_type": "code",
   "execution_count": 325,
   "metadata": {},
   "outputs": [
    {
     "name": "stderr",
     "output_type": "stream",
     "text": [
      "C:\\Users\\sparr\\Anaconda3\\lib\\site-packages\\ipykernel_launcher.py:12: DeprecationWarning: Call to deprecated `similarity` (Method will be removed in 4.0.0, use self.wv.similarity() instead).\n",
      "  if sys.path[0] == '':\n",
      "C:\\Users\\sparr\\Anaconda3\\lib\\site-packages\\ipykernel_launcher.py:25: DeprecationWarning: Call to deprecated `similarity` (Method will be removed in 4.0.0, use self.wv.similarity() instead).\n",
      "C:\\Users\\sparr\\Anaconda3\\lib\\site-packages\\ipykernel_launcher.py:15: DeprecationWarning: Call to deprecated `similarity` (Method will be removed in 4.0.0, use self.wv.similarity() instead).\n",
      "  from ipykernel import kernelapp as app\n",
      "C:\\Users\\sparr\\Anaconda3\\lib\\site-packages\\ipykernel_launcher.py:27: DeprecationWarning: Call to deprecated `similarity` (Method will be removed in 4.0.0, use self.wv.similarity() instead).\n",
      "C:\\Users\\sparr\\Anaconda3\\lib\\site-packages\\ipykernel_launcher.py:28: DeprecationWarning: Call to deprecated `similarity` (Method will be removed in 4.0.0, use self.wv.similarity() instead).\n"
     ]
    },
    {
     "name": "stdout",
     "output_type": "stream",
     "text": [
      "random choice\n",
      "-1\n",
      "random choice\n",
      "discovered new area\n",
      "9\n",
      "random choice\n",
      "-1\n",
      "random choice\n",
      "Didn't know the word side\n",
      "-1\n",
      "random choice\n",
      "-1\n"
     ]
    },
    {
     "name": "stderr",
     "output_type": "stream",
     "text": [
      "  1% |                                                                        |\r"
     ]
    },
    {
     "name": "stdout",
     "output_type": "stream",
     "text": [
      "random choice\n",
      "-1\n",
      "random choice\n",
      "-1\n",
      "random choice\n",
      "-1\n",
      "random choice\n",
      "-1\n"
     ]
    },
    {
     "name": "stderr",
     "output_type": "stream",
     "text": [
      "  2% |#                                                                       |\r"
     ]
    },
    {
     "name": "stdout",
     "output_type": "stream",
     "text": [
      "random choice\n",
      "-1\n",
      "random choice\n",
      "discovered new area\n",
      "9\n",
      "random choice\n",
      "-1\n",
      "random choice\n",
      "-1\n"
     ]
    },
    {
     "name": "stderr",
     "output_type": "stream",
     "text": [
      "  3% |##                                                                      |\r"
     ]
    },
    {
     "name": "stdout",
     "output_type": "stream",
     "text": [
      "random choice\n",
      "Didn't know the word corner\n",
      "-1\n",
      "random choice\n",
      "-1\n",
      "random choice\n",
      "-1\n",
      "random choice\n",
      "-1\n"
     ]
    },
    {
     "name": "stderr",
     "output_type": "stream",
     "text": [
      "  4% |##                                                                      |\r"
     ]
    },
    {
     "name": "stdout",
     "output_type": "stream",
     "text": [
      "random choice\n",
      "-1\n",
      "random choice\n",
      "-1\n",
      "random choice\n",
      "-1\n",
      "random choice\n",
      "-1\n"
     ]
    },
    {
     "name": "stderr",
     "output_type": "stream",
     "text": [
      "  5% |###                                                                     |\r"
     ]
    },
    {
     "name": "stdout",
     "output_type": "stream",
     "text": [
      "random choice\n",
      "discovered new area\n",
      "9\n",
      "random choice\n",
      "discovered new area\n",
      "9\n",
      "random choice\n",
      "Didn't know the word canyon\n",
      "-1\n",
      "random choice\n",
      "Didn't know the word canyon\n",
      "-1\n"
     ]
    },
    {
     "name": "stderr",
     "output_type": "stream",
     "text": [
      "  6% |####                                                                    |\r"
     ]
    },
    {
     "name": "stdout",
     "output_type": "stream",
     "text": [
      "random choice\n",
      "-1\n",
      "random choice\n",
      "Didn't know the word canyon\n",
      "-1\n",
      "random choice\n",
      "Didn't know the word cavern\n",
      "-1\n",
      "random choice\n",
      "Didn't know the word view\n",
      "-1\n"
     ]
    },
    {
     "name": "stderr",
     "output_type": "stream",
     "text": [
      "  7% |#####                                                                   |\r"
     ]
    },
    {
     "name": "stdout",
     "output_type": "stream",
     "text": [
      "random choice\n",
      "-1\n",
      "random choice\n",
      "-1\n",
      "random choice\n",
      "-1\n",
      "random choice\n",
      "-1\n"
     ]
    },
    {
     "name": "stderr",
     "output_type": "stream",
     "text": [
      "  8% |#####                                                                   |\r"
     ]
    },
    {
     "name": "stdout",
     "output_type": "stream",
     "text": [
      "random choice\n",
      "-1\n",
      "random choice\n",
      "-1\n",
      "random choice\n",
      "-1\n",
      "random choice\n",
      "-1\n"
     ]
    },
    {
     "name": "stderr",
     "output_type": "stream",
     "text": [
      "  9% |######                                                                  |\r"
     ]
    },
    {
     "name": "stdout",
     "output_type": "stream",
     "text": [
      "random choice\n",
      "-1\n",
      "random choice\n",
      "-1\n",
      "random choice\n",
      "Didn't know the word top\n",
      "-1\n",
      "random choice\n",
      "-1\n"
     ]
    },
    {
     "name": "stderr",
     "output_type": "stream",
     "text": [
      " 10% |#######                                                                 |\r"
     ]
    },
    {
     "name": "stdout",
     "output_type": "stream",
     "text": [
      "random choice\n",
      "-1\n",
      "random choice\n",
      "-1\n",
      "random choice\n",
      "-1\n",
      "random choice\n",
      "-1\n"
     ]
    },
    {
     "name": "stderr",
     "output_type": "stream",
     "text": [
      " 11% |#######                                                                 |\r"
     ]
    },
    {
     "name": "stdout",
     "output_type": "stream",
     "text": [
      "random choice\n",
      "-1\n",
      "random choice\n",
      "-1\n",
      "random choice\n",
      "-1\n",
      "random choice\n",
      "-1\n"
     ]
    },
    {
     "name": "stderr",
     "output_type": "stream",
     "text": [
      " 12% |########                                                                |\r"
     ]
    },
    {
     "name": "stdout",
     "output_type": "stream",
     "text": [
      "random choice\n",
      "-1\n",
      "random choice\n",
      "-1\n",
      "random choice\n",
      "-1\n",
      "random choice\n",
      "-1\n"
     ]
    },
    {
     "name": "stderr",
     "output_type": "stream",
     "text": [
      " 13% |#########                                                               |\r"
     ]
    },
    {
     "name": "stdout",
     "output_type": "stream",
     "text": [
      "random choice\n",
      "-1\n",
      "random choice\n",
      "-1\n",
      "random choice\n",
      "-1\n",
      "random choice\n",
      "-1\n"
     ]
    },
    {
     "name": "stderr",
     "output_type": "stream",
     "text": [
      " 14% |##########                                                              |\r"
     ]
    },
    {
     "name": "stdout",
     "output_type": "stream",
     "text": [
      "random choice\n",
      "-1\n",
      "random choice\n",
      "-1\n",
      "random choice\n",
      "-1\n",
      "random choice\n",
      "-1\n"
     ]
    },
    {
     "name": "stderr",
     "output_type": "stream",
     "text": [
      " 15% |##########                                                              |\r"
     ]
    },
    {
     "name": "stdout",
     "output_type": "stream",
     "text": [
      "random choice\n",
      "-1\n",
      "random choice\n",
      "-1\n",
      "random choice\n",
      "-1\n",
      "random choice\n",
      "-1\n"
     ]
    },
    {
     "name": "stderr",
     "output_type": "stream",
     "text": [
      " 16% |###########                                                             |\r"
     ]
    },
    {
     "name": "stdout",
     "output_type": "stream",
     "text": [
      "random choice\n",
      "-1\n",
      "random choice\n",
      "-1\n",
      "random choice\n",
      "-1\n",
      "random choice\n",
      "-1\n"
     ]
    },
    {
     "name": "stderr",
     "output_type": "stream",
     "text": [
      " 17% |############                                                            |\r"
     ]
    },
    {
     "name": "stdout",
     "output_type": "stream",
     "text": [
      "random choice\n",
      "-1\n",
      "random choice\n",
      "-1\n",
      "random choice\n",
      "-1\n",
      "random choice\n",
      "-1\n"
     ]
    },
    {
     "name": "stderr",
     "output_type": "stream",
     "text": [
      " 18% |############                                                            |\r"
     ]
    },
    {
     "name": "stdout",
     "output_type": "stream",
     "text": [
      "random choice\n",
      "-1\n",
      "random choice\n",
      "-1\n",
      "random choice\n",
      "-1\n",
      "random choice\n",
      "-1\n"
     ]
    },
    {
     "name": "stderr",
     "output_type": "stream",
     "text": [
      " 19% |#############                                                           |\r"
     ]
    },
    {
     "name": "stdout",
     "output_type": "stream",
     "text": [
      "random choice\n",
      "-1\n",
      "random choice\n",
      "-1\n",
      "random choice\n",
      "-1\n",
      "random choice\n",
      "-1\n"
     ]
    },
    {
     "name": "stderr",
     "output_type": "stream",
     "text": [
      " 20% |##############                                                          |\r"
     ]
    },
    {
     "name": "stdout",
     "output_type": "stream",
     "text": [
      "random choice\n",
      "-1\n",
      "random choice\n",
      "-1\n",
      "random choice\n",
      "-1\n",
      "random choice\n",
      "-1\n"
     ]
    },
    {
     "name": "stderr",
     "output_type": "stream",
     "text": [
      " 21% |###############                                                         |\r"
     ]
    },
    {
     "name": "stdout",
     "output_type": "stream",
     "text": [
      "random choice\n",
      "-1\n",
      "random choice\n",
      "-1\n",
      "random choice\n",
      "-1\n",
      "random choice\n",
      "-1\n"
     ]
    },
    {
     "name": "stderr",
     "output_type": "stream",
     "text": [
      " 22% |###############                                                         |\r"
     ]
    },
    {
     "name": "stdout",
     "output_type": "stream",
     "text": [
      "random choice\n",
      "-1\n",
      "random choice\n",
      "-1\n",
      "random choice\n",
      "-1\n",
      "random choice\n",
      "-1\n"
     ]
    },
    {
     "name": "stderr",
     "output_type": "stream",
     "text": [
      " 23% |################                                                        |\r"
     ]
    },
    {
     "name": "stdout",
     "output_type": "stream",
     "text": [
      "random choice\n",
      "-1\n",
      "random choice\n",
      "-1\n",
      "random choice\n",
      "discovered new area\n",
      "9\n",
      "random choice\n",
      "discovered new area\n",
      "9\n"
     ]
    },
    {
     "name": "stderr",
     "output_type": "stream",
     "text": [
      " 24% |#################                                                       |\r"
     ]
    },
    {
     "name": "stdout",
     "output_type": "stream",
     "text": [
      "random choice\n",
      "-1\n",
      "random choice\n",
      "discovered new area\n",
      "9\n",
      "random choice\n",
      "-1\n",
      "random choice\n",
      "discovered new area\n",
      "9\n"
     ]
    },
    {
     "name": "stderr",
     "output_type": "stream",
     "text": [
      " 25% |##################                                                      |\r"
     ]
    },
    {
     "name": "stdout",
     "output_type": "stream",
     "text": [
      "random choice\n",
      "-1\n",
      "random choice\n",
      "-1\n",
      "random choice\n",
      "-1\n",
      "random choice\n",
      "-1\n"
     ]
    },
    {
     "name": "stderr",
     "output_type": "stream",
     "text": [
      " 26% |##################                                                      |\r"
     ]
    },
    {
     "name": "stdout",
     "output_type": "stream",
     "text": [
      "random choice\n",
      "-1\n",
      "random choice\n",
      "-1\n",
      "random choice\n",
      "-1\n",
      "random choice\n",
      "-1\n"
     ]
    },
    {
     "name": "stderr",
     "output_type": "stream",
     "text": [
      " 27% |###################                                                     |\r"
     ]
    },
    {
     "name": "stdout",
     "output_type": "stream",
     "text": [
      "random choice\n",
      "-1\n",
      "random choice\n",
      "inventory changed\n",
      "19\n",
      "random choice\n",
      "inventory changed\n",
      "19\n",
      "random choice\n",
      "-1\n"
     ]
    },
    {
     "name": "stderr",
     "output_type": "stream",
     "text": [
      " 28% |####################                                                    |\r"
     ]
    },
    {
     "name": "stdout",
     "output_type": "stream",
     "text": [
      "random choice\n",
      "-1\n",
      "random choice\n",
      "-1\n",
      "random choice\n",
      "-1\n",
      "random choice\n",
      "-1\n"
     ]
    },
    {
     "name": "stderr",
     "output_type": "stream",
     "text": [
      " 29% |####################                                                    |\r"
     ]
    },
    {
     "name": "stdout",
     "output_type": "stream",
     "text": [
      "random choice\n",
      "inventory changed\n",
      "19\n",
      "random choice\n",
      "inventory changed\n",
      "discovered new area\n",
      "29\n",
      "random choice\n",
      "inventory changed\n",
      "19\n",
      "random choice\n",
      "inventory changed\n",
      "discovered new area\n",
      "29\n"
     ]
    },
    {
     "name": "stderr",
     "output_type": "stream",
     "text": [
      " 30% |#####################                                                   |\r"
     ]
    },
    {
     "name": "stdout",
     "output_type": "stream",
     "text": [
      "random choice\n",
      "-1\n",
      "random choice\n",
      "-1\n",
      "random choice\n",
      "-1\n",
      "random choice\n",
      "-1\n"
     ]
    },
    {
     "name": "stderr",
     "output_type": "stream",
     "text": [
      " 31% |######################                                                  |\r"
     ]
    },
    {
     "name": "stdout",
     "output_type": "stream",
     "text": [
      "random choice\n",
      "-1\n",
      "random choice\n",
      "inventory changed\n",
      "discovered new area\n",
      "29\n",
      "random choice\n",
      "inventory changed\n",
      "19\n",
      "random choice\n",
      "-1\n"
     ]
    },
    {
     "name": "stderr",
     "output_type": "stream",
     "text": [
      " 32% |#######################                                                 |\r"
     ]
    },
    {
     "name": "stdout",
     "output_type": "stream",
     "text": [
      "random choice\n",
      "-1\n",
      "random choice\n",
      "-1\n",
      "random choice\n",
      "-1\n",
      "random choice\n",
      "Didn't know the word distance\n",
      "-1\n"
     ]
    },
    {
     "name": "stderr",
     "output_type": "stream",
     "text": [
      " 33% |#######################                                                 |\r"
     ]
    },
    {
     "name": "stdout",
     "output_type": "stream",
     "text": [
      "random choice\n",
      "-1\n",
      "random choice\n",
      "-1\n",
      "random choice\n",
      "-1\n",
      "random choice\n",
      "-1\n"
     ]
    },
    {
     "name": "stderr",
     "output_type": "stream",
     "text": [
      " 34% |########################                                                |\r"
     ]
    },
    {
     "name": "stdout",
     "output_type": "stream",
     "text": [
      "random choice\n",
      "-1\n",
      "random choice\n",
      "-1\n",
      "random choice\n",
      "-1\n",
      "random choice\n",
      "-1\n"
     ]
    },
    {
     "name": "stderr",
     "output_type": "stream",
     "text": [
      " 35% |#########################                                               |\r"
     ]
    },
    {
     "name": "stdout",
     "output_type": "stream",
     "text": [
      "random choice\n",
      "-1\n",
      "random choice\n",
      "-1\n",
      "random choice\n",
      "-1\n",
      "random choice\n",
      "-1\n"
     ]
    },
    {
     "name": "stderr",
     "output_type": "stream",
     "text": [
      " 36% |#########################                                               |\r"
     ]
    },
    {
     "name": "stdout",
     "output_type": "stream",
     "text": [
      "random choice\n",
      "-1\n",
      "random choice\n",
      "-1\n",
      "random choice\n",
      "Didn't know the word edge\n",
      "-1\n",
      "random choice\n",
      "-1\n"
     ]
    },
    {
     "name": "stderr",
     "output_type": "stream",
     "text": [
      " 37% |##########################                                              |\r"
     ]
    },
    {
     "name": "stdout",
     "output_type": "stream",
     "text": [
      "random choice\n",
      "-1\n",
      "random choice\n",
      "-1\n",
      "random choice\n",
      "-1\n",
      "random choice\n",
      "-1\n"
     ]
    },
    {
     "name": "stderr",
     "output_type": "stream",
     "text": [
      " 38% |###########################                                             |\r"
     ]
    },
    {
     "name": "stdout",
     "output_type": "stream",
     "text": [
      "random choice\n",
      "-1\n",
      "random choice\n",
      "-1\n",
      "random choice\n",
      "-1\n",
      "random choice\n",
      "-1\n"
     ]
    },
    {
     "name": "stderr",
     "output_type": "stream",
     "text": [
      " 39% |############################                                            |\r"
     ]
    },
    {
     "name": "stdout",
     "output_type": "stream",
     "text": [
      "random choice\n",
      "-1\n",
      "random choice\n",
      "-1\n",
      "random choice\n",
      "-1\n",
      "random choice\n",
      "-1\n"
     ]
    },
    {
     "name": "stderr",
     "output_type": "stream",
     "text": [
      " 40% |############################                                            |\r"
     ]
    },
    {
     "name": "stdout",
     "output_type": "stream",
     "text": [
      "random choice\n",
      "-1\n",
      "random choice\n",
      "-1\n",
      "random choice\n",
      "-1\n",
      "random choice\n",
      "discovered new area\n",
      "9\n"
     ]
    },
    {
     "name": "stderr",
     "output_type": "stream",
     "text": [
      " 41% |#############################                                           |\r"
     ]
    },
    {
     "name": "stdout",
     "output_type": "stream",
     "text": [
      "random choice\n",
      "Didn't know the word directions\n",
      "-1\n",
      "random choice\n",
      "-1\n",
      "random choice\n",
      "-1\n",
      "random choice\n",
      "-1\n"
     ]
    },
    {
     "name": "stderr",
     "output_type": "stream",
     "text": [
      " 42% |##############################                                          |\r"
     ]
    },
    {
     "name": "stdout",
     "output_type": "stream",
     "text": [
      "random choice\n",
      "inventory changed\n",
      "19\n",
      "random choice\n",
      "inventory changed\n",
      "discovered new area\n",
      "29\n",
      "random choice\n",
      "-1\n",
      "random choice\n",
      "-1\n"
     ]
    },
    {
     "name": "stderr",
     "output_type": "stream",
     "text": [
      " 43% |##############################                                          |\r"
     ]
    },
    {
     "name": "stdout",
     "output_type": "stream",
     "text": [
      "random choice\n",
      "-1\n",
      "random choice\n",
      "-1\n",
      "random choice\n",
      "inventory changed\n",
      "19\n",
      "random choice\n",
      "inventory changed\n",
      "discovered new area\n",
      "29\n"
     ]
    },
    {
     "name": "stderr",
     "output_type": "stream",
     "text": [
      " 44% |###############################                                         |\r"
     ]
    },
    {
     "name": "stdout",
     "output_type": "stream",
     "text": [
      "random choice\n",
      "-1\n",
      "random choice\n",
      "-1\n",
      "random choice\n",
      "-1\n",
      "random choice\n",
      "-1\n"
     ]
    },
    {
     "name": "stderr",
     "output_type": "stream",
     "text": [
      " 45% |################################                                        |\r"
     ]
    },
    {
     "name": "stdout",
     "output_type": "stream",
     "text": [
      "random choice\n",
      "-1\n",
      "random choice\n",
      "-1\n",
      "random choice\n",
      "-1\n",
      "random choice\n",
      "-1\n"
     ]
    },
    {
     "name": "stderr",
     "output_type": "stream",
     "text": [
      " 46% |#################################                                       |\r"
     ]
    },
    {
     "name": "stdout",
     "output_type": "stream",
     "text": [
      "random choice\n",
      "-1\n",
      "random choice\n",
      "-1\n",
      "random choice\n",
      "-1\n",
      "random choice\n",
      "-1\n"
     ]
    },
    {
     "name": "stderr",
     "output_type": "stream",
     "text": [
      " 47% |#################################                                       |\r"
     ]
    },
    {
     "name": "stdout",
     "output_type": "stream",
     "text": [
      "random choice\n",
      "-1\n",
      "random choice\n",
      "-1\n",
      "random choice\n",
      "-1\n",
      "random choice\n",
      "-1\n"
     ]
    },
    {
     "name": "stderr",
     "output_type": "stream",
     "text": [
      " 48% |##################################                                      |\r"
     ]
    },
    {
     "name": "stdout",
     "output_type": "stream",
     "text": [
      "random choice\n",
      "-1\n",
      "random choice\n",
      "-1\n",
      "random choice\n",
      "-1\n",
      "random choice\n",
      "-1\n"
     ]
    },
    {
     "name": "stderr",
     "output_type": "stream",
     "text": [
      " 49% |###################################                                     |\r"
     ]
    },
    {
     "name": "stdout",
     "output_type": "stream",
     "text": [
      "random choice\n",
      "-1\n",
      "random choice\n",
      "-1\n",
      "random choice\n",
      "-1\n",
      "random choice\n",
      "-1\n"
     ]
    },
    {
     "name": "stderr",
     "output_type": "stream",
     "text": [
      " 50% |####################################                                    |\r"
     ]
    },
    {
     "name": "stdout",
     "output_type": "stream",
     "text": [
      "random choice\n",
      "-1\n",
      "random choice\n",
      "-1\n",
      "random choice\n",
      "-1\n",
      "random choice\n",
      "-1\n"
     ]
    },
    {
     "name": "stderr",
     "output_type": "stream",
     "text": [
      " 51% |####################################                                    |\r"
     ]
    },
    {
     "name": "stdout",
     "output_type": "stream",
     "text": [
      "random choice\n",
      "discovered new area\n",
      "9\n",
      "random choice\n",
      "-1\n",
      "random choice\n",
      "discovered new area\n",
      "9\n",
      "random choice\n",
      "49\n"
     ]
    },
    {
     "name": "stderr",
     "output_type": "stream",
     "text": [
      " 52% |#####################################                                   |\r"
     ]
    },
    {
     "name": "stdout",
     "output_type": "stream",
     "text": [
      "random choice\n",
      "discovered new area\n",
      "9\n",
      "random choice\n",
      "inventory changed\n",
      "19\n",
      "random choice\n",
      "-1\n",
      "random choice\n",
      "-1\n"
     ]
    },
    {
     "name": "stderr",
     "output_type": "stream",
     "text": [
      " 53% |######################################                                  |\r"
     ]
    },
    {
     "name": "stdout",
     "output_type": "stream",
     "text": [
      "random choice\n",
      "-1\n",
      "random choice\n",
      "-1\n",
      "random choice\n",
      "-1\n",
      "random choice\n",
      "-1\n"
     ]
    },
    {
     "name": "stderr",
     "output_type": "stream",
     "text": [
      " 54% |######################################                                  |\r"
     ]
    },
    {
     "name": "stdout",
     "output_type": "stream",
     "text": [
      "random choice\n",
      "-1\n",
      "random choice\n",
      "-1\n",
      "random choice\n",
      "-1\n",
      "random choice\n",
      "-1\n"
     ]
    },
    {
     "name": "stderr",
     "output_type": "stream",
     "text": [
      " 55% |#######################################                                 |\r"
     ]
    },
    {
     "name": "stdout",
     "output_type": "stream",
     "text": [
      "predicted choice\n",
      "Didn't know the word preparation\n",
      "-1\n",
      "random choice\n",
      "-1\n",
      "random choice\n",
      "discovered new area\n",
      "9\n",
      "random choice\n",
      "Didn't know the word room\n",
      "-1\n"
     ]
    },
    {
     "name": "stderr",
     "output_type": "stream",
     "text": [
      " 56% |########################################                                |\r"
     ]
    },
    {
     "name": "stdout",
     "output_type": "stream",
     "text": [
      "random choice\n",
      "-1\n",
      "predicted choice\n",
      "-1\n",
      "random choice\n",
      "Didn't know the word room\n",
      "-1\n",
      "random choice\n",
      "Didn't know the word living\n",
      "-1\n"
     ]
    },
    {
     "name": "stderr",
     "output_type": "stream",
     "text": [
      " 57% |#########################################                               |\r"
     ]
    },
    {
     "name": "stdout",
     "output_type": "stream",
     "text": [
      "random choice\n",
      "Didn't know the word battery\n",
      "-1\n",
      "random choice\n",
      "-1\n",
      "random choice\n",
      "-1\n",
      "random choice\n",
      "-1\n"
     ]
    },
    {
     "name": "stderr",
     "output_type": "stream",
     "text": [
      " 58% |#########################################                               |\r"
     ]
    },
    {
     "name": "stdout",
     "output_type": "stream",
     "text": [
      "random choice\n",
      "-1\n",
      "random choice\n",
      "-1\n",
      "random choice\n",
      "-1\n",
      "random choice\n",
      "-1\n"
     ]
    },
    {
     "name": "stderr",
     "output_type": "stream",
     "text": [
      " 59% |##########################################                              |\r"
     ]
    },
    {
     "name": "stdout",
     "output_type": "stream",
     "text": [
      "random choice\n",
      "-1\n",
      "random choice\n",
      "-1\n",
      "random choice\n",
      "-1\n",
      "random choice\n",
      "-1\n"
     ]
    },
    {
     "name": "stderr",
     "output_type": "stream",
     "text": [
      " 60% |###########################################                             |\r"
     ]
    },
    {
     "name": "stdout",
     "output_type": "stream",
     "text": [
      "random choice\n",
      "-1\n",
      "random choice\n",
      "-1\n",
      "random choice\n",
      "-1\n",
      "random choice\n",
      "-1\n"
     ]
    },
    {
     "name": "stderr",
     "output_type": "stream",
     "text": [
      " 61% |###########################################                             |\r"
     ]
    },
    {
     "name": "stdout",
     "output_type": "stream",
     "text": [
      "random choice\n",
      "-1\n",
      "random choice\n",
      "-1\n",
      "random choice\n",
      "-1\n",
      "random choice\n",
      "-1\n"
     ]
    },
    {
     "name": "stderr",
     "output_type": "stream",
     "text": [
      " 62% |############################################                            |\r"
     ]
    },
    {
     "name": "stdout",
     "output_type": "stream",
     "text": [
      "random choice\n",
      "-1\n",
      "random choice\n",
      "-1\n",
      "random choice\n",
      "-1\n",
      "random choice\n",
      "-1\n"
     ]
    },
    {
     "name": "stderr",
     "output_type": "stream",
     "text": [
      " 63% |#############################################                           |\r"
     ]
    },
    {
     "name": "stdout",
     "output_type": "stream",
     "text": [
      "random choice\n",
      "-1\n",
      "random choice\n",
      "-1\n",
      "random choice\n",
      "-1\n",
      "predicted choice\n",
      "-1\n"
     ]
    },
    {
     "name": "stderr",
     "output_type": "stream",
     "text": [
      " 64% |##############################################                          |\r"
     ]
    },
    {
     "name": "stdout",
     "output_type": "stream",
     "text": [
      "random choice\n",
      "-1\n",
      "random choice\n",
      "-1\n",
      "random choice\n",
      "-1\n",
      "random choice\n",
      "-1\n"
     ]
    },
    {
     "name": "stderr",
     "output_type": "stream",
     "text": [
      " 65% |##############################################                          |\r"
     ]
    },
    {
     "name": "stdout",
     "output_type": "stream",
     "text": [
      "random choice\n",
      "-1\n",
      "random choice\n",
      "-1\n",
      "random choice\n",
      "-1\n",
      "random choice\n",
      "-1\n"
     ]
    },
    {
     "name": "stderr",
     "output_type": "stream",
     "text": [
      " 66% |###############################################                         |\r"
     ]
    },
    {
     "name": "stdout",
     "output_type": "stream",
     "text": [
      "random choice\n",
      "-1\n",
      "random choice\n",
      "-1\n",
      "random choice\n",
      "-1\n",
      "random choice\n",
      "-1\n"
     ]
    },
    {
     "name": "stderr",
     "output_type": "stream",
     "text": [
      " 67% |################################################                        |\r"
     ]
    },
    {
     "name": "stdout",
     "output_type": "stream",
     "text": [
      "random choice\n",
      "-1\n",
      "random choice\n",
      "-1\n",
      "random choice\n",
      "-1\n",
      "random choice\n",
      "-1\n"
     ]
    },
    {
     "name": "stderr",
     "output_type": "stream",
     "text": [
      " 68% |################################################                        |\r"
     ]
    },
    {
     "name": "stdout",
     "output_type": "stream",
     "text": [
      "random choice\n",
      "-1\n",
      "random choice\n",
      "-1\n",
      "random choice\n",
      "-1\n",
      "random choice\n",
      "-1\n"
     ]
    },
    {
     "name": "stderr",
     "output_type": "stream",
     "text": [
      " 69% |#################################################                       |\r"
     ]
    },
    {
     "name": "stdout",
     "output_type": "stream",
     "text": [
      "random choice\n",
      "-1\n",
      "random choice\n",
      "-1\n",
      "random choice\n",
      "-1\n",
      "random choice\n",
      "-1\n"
     ]
    },
    {
     "name": "stderr",
     "output_type": "stream",
     "text": [
      " 70% |##################################################                      |\r"
     ]
    },
    {
     "name": "stdout",
     "output_type": "stream",
     "text": [
      "random choice\n",
      "-1\n",
      "random choice\n",
      "-1\n",
      "random choice\n",
      "-1\n",
      "random choice\n",
      "-1\n"
     ]
    },
    {
     "name": "stderr",
     "output_type": "stream",
     "text": [
      " 71% |###################################################                     |\r"
     ]
    },
    {
     "name": "stdout",
     "output_type": "stream",
     "text": [
      "random choice\n",
      "-1\n",
      "random choice\n",
      "-1\n",
      "random choice\n",
      "-1\n",
      "random choice\n",
      "-1\n"
     ]
    },
    {
     "name": "stderr",
     "output_type": "stream",
     "text": [
      " 72% |###################################################                     |\r"
     ]
    },
    {
     "name": "stdout",
     "output_type": "stream",
     "text": [
      "predicted choice\n",
      "Didn't know the word center\n",
      "-1\n",
      "random choice\n",
      "-1\n",
      "random choice\n",
      "-1\n",
      "random choice\n",
      "-1\n"
     ]
    },
    {
     "name": "stderr",
     "output_type": "stream",
     "text": [
      " 73% |####################################################                    |\r"
     ]
    },
    {
     "name": "stdout",
     "output_type": "stream",
     "text": [
      "random choice\n",
      "-1\n",
      "random choice\n",
      "-1\n",
      "random choice\n",
      "-1\n",
      "random choice\n",
      "-1\n"
     ]
    },
    {
     "name": "stderr",
     "output_type": "stream",
     "text": [
      " 74% |#####################################################                   |\r"
     ]
    },
    {
     "name": "stdout",
     "output_type": "stream",
     "text": [
      "random choice\n",
      "-1\n",
      "random choice\n",
      "-1\n",
      "predicted choice\n",
      "-1\n",
      "random choice\n",
      "-1\n"
     ]
    },
    {
     "name": "stderr",
     "output_type": "stream",
     "text": [
      " 75% |######################################################                  |\r"
     ]
    },
    {
     "name": "stdout",
     "output_type": "stream",
     "text": [
      "random choice\n",
      "-1\n",
      "random choice\n",
      "-1\n",
      "predicted choice\n",
      "-1\n",
      "random choice\n",
      "-1\n"
     ]
    },
    {
     "name": "stderr",
     "output_type": "stream",
     "text": [
      " 76% |######################################################                  |\r"
     ]
    },
    {
     "name": "stdout",
     "output_type": "stream",
     "text": [
      "random choice\n",
      "-1\n",
      "random choice\n",
      "-1\n",
      "random choice\n",
      "-1\n",
      "random choice\n",
      "-1\n"
     ]
    },
    {
     "name": "stderr",
     "output_type": "stream",
     "text": [
      " 77% |#######################################################                 |\r"
     ]
    },
    {
     "name": "stdout",
     "output_type": "stream",
     "text": [
      "random choice\n",
      "-1\n",
      "random choice\n",
      "-1\n",
      "random choice\n",
      "-1\n",
      "random choice\n",
      "-1\n"
     ]
    },
    {
     "name": "stderr",
     "output_type": "stream",
     "text": [
      " 78% |########################################################                |\r"
     ]
    },
    {
     "name": "stdout",
     "output_type": "stream",
     "text": [
      "random choice\n",
      "-1\n",
      "random choice\n",
      "-1\n",
      "random choice\n",
      "discovered new area\n",
      "9\n",
      "random choice\n",
      "inventory changed\n",
      "19\n"
     ]
    },
    {
     "name": "stderr",
     "output_type": "stream",
     "text": [
      " 79% |########################################################                |\r"
     ]
    },
    {
     "name": "stdout",
     "output_type": "stream",
     "text": [
      "random choice\n",
      "-1\n",
      "random choice\n",
      "-1\n",
      "random choice\n",
      "-1\n",
      "random choice\n",
      "-1\n"
     ]
    },
    {
     "name": "stderr",
     "output_type": "stream",
     "text": [
      " 80% |#########################################################               |\r"
     ]
    },
    {
     "name": "stdout",
     "output_type": "stream",
     "text": [
      "random choice\n",
      "-1\n",
      "random choice\n",
      "-1\n",
      "random choice\n",
      "-1\n",
      "predicted choice\n",
      "Didn't know the word doorway\n",
      "-1\n"
     ]
    },
    {
     "name": "stderr",
     "output_type": "stream",
     "text": [
      " 81% |##########################################################              |\r"
     ]
    },
    {
     "name": "stdout",
     "output_type": "stream",
     "text": [
      "random choice\n",
      "-1\n",
      "random choice\n",
      "-1\n",
      "random choice\n",
      "-1\n",
      "random choice\n",
      "-1\n"
     ]
    },
    {
     "name": "stderr",
     "output_type": "stream",
     "text": [
      " 82% |###########################################################             |\r"
     ]
    },
    {
     "name": "stdout",
     "output_type": "stream",
     "text": [
      "random choice\n",
      "-1\n",
      "random choice\n",
      "-1\n",
      "random choice\n",
      "-1\n",
      "random choice\n",
      "-1\n"
     ]
    },
    {
     "name": "stderr",
     "output_type": "stream",
     "text": [
      " 83% |###########################################################             |\r"
     ]
    },
    {
     "name": "stdout",
     "output_type": "stream",
     "text": [
      "random choice\n",
      "-1\n",
      "random choice\n",
      "-1\n",
      "random choice\n",
      "-1\n",
      "random choice\n",
      "-1\n"
     ]
    },
    {
     "name": "stderr",
     "output_type": "stream",
     "text": [
      " 84% |############################################################            |\r"
     ]
    },
    {
     "name": "stdout",
     "output_type": "stream",
     "text": [
      "random choice\n",
      "-1\n",
      "random choice\n",
      "-1\n",
      "random choice\n",
      "-1\n",
      "random choice\n",
      "-1\n"
     ]
    },
    {
     "name": "stderr",
     "output_type": "stream",
     "text": [
      " 85% |#############################################################           |\r"
     ]
    },
    {
     "name": "stdout",
     "output_type": "stream",
     "text": [
      "random choice\n",
      "-1\n",
      "random choice\n",
      "-1\n",
      "random choice\n",
      "-1\n",
      "random choice\n",
      "-1\n"
     ]
    },
    {
     "name": "stderr",
     "output_type": "stream",
     "text": [
      " 86% |#############################################################           |\r"
     ]
    },
    {
     "name": "stdout",
     "output_type": "stream",
     "text": [
      "random choice\n",
      "-1\n",
      "random choice\n",
      "-1\n",
      "random choice\n",
      "-1\n",
      "random choice\n",
      "-1\n"
     ]
    },
    {
     "name": "stderr",
     "output_type": "stream",
     "text": [
      " 87% |##############################################################          |\r"
     ]
    },
    {
     "name": "stdout",
     "output_type": "stream",
     "text": [
      "random choice\n",
      "-1\n",
      "random choice\n",
      "-1\n",
      "random choice\n",
      "-1\n",
      "random choice\n",
      "-1\n"
     ]
    },
    {
     "name": "stderr",
     "output_type": "stream",
     "text": [
      " 88% |###############################################################         |\r"
     ]
    },
    {
     "name": "stdout",
     "output_type": "stream",
     "text": [
      "random choice\n",
      "-1\n",
      "random choice\n",
      "-1\n",
      "random choice\n",
      "-1\n",
      "predicted choice\n",
      "-1\n"
     ]
    },
    {
     "name": "stderr",
     "output_type": "stream",
     "text": [
      " 89% |################################################################        |\r"
     ]
    },
    {
     "name": "stdout",
     "output_type": "stream",
     "text": [
      "random choice\n",
      "-1\n",
      "random choice\n",
      "-1\n",
      "random choice\n",
      "-1\n",
      "random choice\n",
      "-1\n"
     ]
    },
    {
     "name": "stderr",
     "output_type": "stream",
     "text": [
      " 90% |################################################################        |\r"
     ]
    },
    {
     "name": "stdout",
     "output_type": "stream",
     "text": [
      "random choice\n",
      "-1\n",
      "random choice\n",
      "-1\n",
      "random choice\n",
      "-1\n",
      "random choice\n",
      "-1\n"
     ]
    },
    {
     "name": "stderr",
     "output_type": "stream",
     "text": [
      " 91% |#################################################################       |\r"
     ]
    },
    {
     "name": "stdout",
     "output_type": "stream",
     "text": [
      "random choice\n",
      "-1\n",
      "random choice\n",
      "-1\n",
      "random choice\n",
      "-1\n",
      "random choice\n",
      "-1\n"
     ]
    },
    {
     "name": "stderr",
     "output_type": "stream",
     "text": [
      " 92% |##################################################################      |\r"
     ]
    },
    {
     "name": "stdout",
     "output_type": "stream",
     "text": [
      "random choice\n",
      "-1\n",
      "random choice\n",
      "-1\n",
      "random choice\n",
      "-1\n",
      "random choice\n",
      "-1\n"
     ]
    },
    {
     "name": "stderr",
     "output_type": "stream",
     "text": [
      " 93% |##################################################################      |\r"
     ]
    },
    {
     "name": "stdout",
     "output_type": "stream",
     "text": [
      "random choice\n",
      "-1\n",
      "random choice\n",
      "-1\n",
      "random choice\n",
      "-1\n",
      "random choice\n",
      "-1\n"
     ]
    },
    {
     "name": "stderr",
     "output_type": "stream",
     "text": [
      " 94% |###################################################################     |\r"
     ]
    },
    {
     "name": "stdout",
     "output_type": "stream",
     "text": [
      "random choice\n",
      "-1\n",
      "random choice\n",
      "-1\n",
      "random choice\n",
      "-1\n",
      "random choice\n",
      "-1\n"
     ]
    },
    {
     "name": "stderr",
     "output_type": "stream",
     "text": [
      " 95% |####################################################################    |\r"
     ]
    },
    {
     "name": "stdout",
     "output_type": "stream",
     "text": [
      "random choice\n",
      "-1\n",
      "random choice\n",
      "-1\n",
      "random choice\n",
      "-1\n",
      "random choice\n",
      "-1\n"
     ]
    },
    {
     "name": "stderr",
     "output_type": "stream",
     "text": [
      " 96% |#####################################################################   |\r"
     ]
    },
    {
     "name": "stdout",
     "output_type": "stream",
     "text": [
      "random choice\n",
      "-1\n",
      "random choice\n",
      "-1\n",
      "random choice\n",
      "-1\n",
      "random choice\n",
      "-1\n"
     ]
    },
    {
     "name": "stderr",
     "output_type": "stream",
     "text": [
      " 97% |#####################################################################   |\r"
     ]
    },
    {
     "name": "stdout",
     "output_type": "stream",
     "text": [
      "random choice\n",
      "-1\n",
      "random choice\n",
      "-1\n",
      "random choice\n",
      "-1\n",
      "random choice\n",
      "-1\n"
     ]
    },
    {
     "name": "stderr",
     "output_type": "stream",
     "text": [
      " 98% |######################################################################  |\r"
     ]
    },
    {
     "name": "stdout",
     "output_type": "stream",
     "text": [
      "random choice\n",
      "-1\n",
      "random choice\n",
      "-1\n",
      "random choice\n",
      "-1\n",
      "random choice\n",
      "-1\n"
     ]
    },
    {
     "name": "stderr",
     "output_type": "stream",
     "text": [
      " 99% |####################################################################### |\r"
     ]
    },
    {
     "name": "stdout",
     "output_type": "stream",
     "text": [
      "random choice\n",
      "-1\n",
      "random choice\n",
      "-1\n",
      "random choice\n",
      "-1\n"
     ]
    },
    {
     "name": "stderr",
     "output_type": "stream",
     "text": [
      "100% |########################################################################|\n"
     ]
    }
   ],
   "source": [
    "invalid_nouns = []\n",
    "unique_narratives = set()\n",
    "story = pd.DataFrame(columns=['Surroundings', 'Inventory', 'Action', 'Response', 'Score', 'Moves'])\n",
    "rounds = 400\n",
    "pbar = ProgressBar(maxval=rounds)\n",
    "pbar.start()\n",
    "p, q, t, score, moves = start_game()\n",
    "moves_count = 0\n",
    "batch_size = 20\n",
    "try:\n",
    "    for i in range(0,rounds):\n",
    "        ## Check surroundings, check inventory, choose action, check action response\n",
    "        narrative,score,moves = readLine(q)\n",
    "        check_inventory(p)\n",
    "        inventory,s,m = readLine(q)\n",
    "\n",
    "        nouns = get_nouns(narrative)\n",
    "\n",
    "        # build action space\n",
    "        current_action_space = generate_action_tuples(nouns)\n",
    "        action_space = set()\n",
    "        action_space, probs = add_to_action_space(action_space, current_action_space)\n",
    "        actions = []\n",
    "        for a in action_space:\n",
    "            actions.append(a)\n",
    "            \n",
    "        narrativeVector = vectorizeText(narrative,tokenizer)\n",
    "\n",
    "            \n",
    "        if (agent.act_random() or i < 10): ## choose random action\n",
    "            print('random choice')\n",
    "            probs = np.array(probs)\n",
    "            probs /= probs.sum()\n",
    "            action = selectOne(actions, probs)\n",
    "            df = pd.DataFrame(columns=['Action', 'Prob'])\n",
    "            df['Action'] = actions\n",
    "            df['Prob'] = probs\n",
    "            \n",
    "        else: ## choose predicted max Q value action\n",
    "            print('predicted choice')\n",
    "            actionsVectors = []\n",
    "            for a in actions:\n",
    "                actionsVectors.append(vectorizeText(a,tokenizer))\n",
    "            best_action, max_q = agent.predict_actions(narrativeVector, actionsVectors)\n",
    "            action = actions[best_action]\n",
    "        \n",
    "        perform_action(action, p)\n",
    "\n",
    "        response,score,moves = readLine(q)\n",
    "        story.loc[i] = [narrative, inventory, action, response, str(s), str(i+1)]\n",
    "        unique_narratives.add(preprocess(narrative))\n",
    "        \n",
    "        actionVector = vectorizeText(action,tokenizer)\n",
    "                \n",
    "        look_surroundings(p)\n",
    "        new_narrative,s,m = readLine(q)\n",
    "        new_narrativeVector = vectorizeText(new_narrative, tokenizer)\n",
    "        \n",
    "        \n",
    "        reward = calculate_reward(story, moves_count, preprocess(new_narrative))\n",
    "        moves_count += 1\n",
    "\n",
    "        \n",
    "        agent.remember(narrativeVector, actionVector, reward, new_narrativeVector, False)\n",
    "        \n",
    "        look_surroundings(p)\n",
    "        \n",
    "        if moves_count%batch_size == 0:  ## batch of 5 experiences in memory\n",
    "            agent.replay(batch_size)\n",
    "    \n",
    "        pbar.update(i) #this adds a little symbol at each iteration\n",
    "    pbar.finish()\n",
    "    kill_game(p)\n",
    "except Exception as e: \n",
    "    kill_game(p)\n",
    "    print(e.with_traceback())"
   ]
  },
  {
   "cell_type": "code",
   "execution_count": 326,
   "metadata": {},
   "outputs": [],
   "source": [
    "import pickle\n",
    "\n",
    "with open('invalid_nouns.txt', 'wb') as fp:\n",
    "    pickle.dump(invalid_nouns, fp)"
   ]
  },
  {
   "cell_type": "code",
   "execution_count": 329,
   "metadata": {},
   "outputs": [
    {
     "data": {
      "text/plain": [
       "['side',\n",
       " 'corner',\n",
       " 'canyon',\n",
       " 'canyon',\n",
       " 'canyon',\n",
       " 'cavern',\n",
       " 'view',\n",
       " 'top',\n",
       " 'distance',\n",
       " 'edge',\n",
       " 'directions',\n",
       " 'preparation',\n",
       " 'room',\n",
       " 'room',\n",
       " 'living',\n",
       " 'battery',\n",
       " 'center',\n",
       " 'doorway']"
      ]
     },
     "execution_count": 329,
     "metadata": {},
     "output_type": "execute_result"
    }
   ],
   "source": [
    "with open ('invalid_nouns.txt', 'rb') as fp:\n",
    "    test = pickle.load(fp)\n",
    "test"
   ]
  },
  {
   "cell_type": "code",
   "execution_count": 327,
   "metadata": {},
   "outputs": [
    {
     "data": {
      "text/plain": [
       "{'behind house  you are behind the white house  a path leads into the forest to the east   in one corner of the house there is a small window which is open ',\n",
       " 'behind house  you are behind the white house  a path leads into the forest to the east   in one corner of the house there is a small window which is slightly ajar ',\n",
       " 'canyon view  you are at the top of the great canyon on its west wall  from here there is  a marvelous view of the canyon and parts of the frigid river upstream   across the canyon  the walls of the white cliffs join the mighty ramparts  of the flathead mountains to the east  following the canyon upstream to the  north  aragain falls may be seen  complete with rainbow  the mighty frigid  river flows out from a great dark cavern  to the west and south can be seen  an immense forest  stretching for miles around  a path leads northwest  it  is possible to climb down into the canyon from here ',\n",
       " 'clearing  you are in a clearing  with a forest surrounding you on all sides  a path  leads south   on the ground is a pile of leaves ',\n",
       " 'clearing  you are in a small clearing in a well marked forest path that extends to  the east and west ',\n",
       " 'forest  the forest thins out  revealing impassable mountains ',\n",
       " 'forest  this is a dimly lit forest  with large trees all around ',\n",
       " 'forest  this is a dimly lit forest  with large trees all around   you hear in the distance the chirping of a song bird ',\n",
       " 'forest  this is a forest  with trees in all directions  to the east  there appears  to be sunlight ',\n",
       " 'forest  this is a forest  with trees in all directions  to the east  there appears  to be sunlight   you hear in the distance the chirping of a song bird ',\n",
       " 'forest path  this is a path winding through a dimly lit forest  the path heads north-  south here  one particularly large tree with some low branches stands at  the edge of the path ',\n",
       " 'forest path  this is a path winding through a dimly lit forest  the path heads north-  south here  one particularly large tree with some low branches stands at  the edge of the path   you hear in the distance the chirping of a song bird ',\n",
       " 'kitchen  you are in the kitchen of the white house  a table seems to have been used  recently for the preparation of food  a passage leads to the west and a  dark staircase can be seen leading upward  a dark chimney leads down and to  the east is a small window which is open   on the table is an elongated brown sack  smelling of hot peppers ',\n",
       " 'kitchen  you are in the kitchen of the white house  a table seems to have been used  recently for the preparation of food  a passage leads to the west and a  dark staircase can be seen leading upward  a dark chimney leads down and to  the east is a small window which is open   on the table is an elongated brown sack  smelling of hot peppers   a bottle is sitting on the table   the glass bottle contains     a quantity of water',\n",
       " 'living room  you are in the living room  there is a doorway to the east  a wooden door  with strange gothic lettering to the west  which appears to be nailed shut   a trophy case  and a large oriental rug in the center of the room   a battery-powered brass lantern is on the trophy case ',\n",
       " 'living room  you are in the living room  there is a doorway to the east  a wooden door  with strange gothic lettering to the west  which appears to be nailed shut   a trophy case  and a large oriental rug in the center of the room   above the trophy case hangs an elvish sword of great antiquity   a battery-powered brass lantern is on the trophy case ',\n",
       " 'north of house  you are facing the north side of a white house  there is no door here  and  all the windows are boarded up  to the north a narrow path winds through  the trees ',\n",
       " 'south of house  you are facing the south side of a white house  there is no door here  and  all the windows are boarded ',\n",
       " 'west of house  you are standing in an open field west of a white house  with a boarded  front door   there is a small mailbox here '}"
      ]
     },
     "execution_count": 327,
     "metadata": {},
     "output_type": "execute_result"
    }
   ],
   "source": [
    "unique_narratives"
   ]
  },
  {
   "cell_type": "code",
   "execution_count": 334,
   "metadata": {},
   "outputs": [
    {
     "data": {
      "text/plain": [
       "deque([])"
      ]
     },
     "execution_count": 334,
     "metadata": {},
     "output_type": "execute_result"
    }
   ],
   "source": [
    "agent.memory"
   ]
  },
  {
   "cell_type": "code",
   "execution_count": 328,
   "metadata": {},
   "outputs": [
    {
     "data": {
      "text/html": [
       "<div>\n",
       "<style scoped>\n",
       "    .dataframe tbody tr th:only-of-type {\n",
       "        vertical-align: middle;\n",
       "    }\n",
       "\n",
       "    .dataframe tbody tr th {\n",
       "        vertical-align: top;\n",
       "    }\n",
       "\n",
       "    .dataframe thead th {\n",
       "        text-align: right;\n",
       "    }\n",
       "</style>\n",
       "<table border=\"1\" class=\"dataframe\">\n",
       "  <thead>\n",
       "    <tr style=\"text-align: right;\">\n",
       "      <th></th>\n",
       "      <th>Surroundings</th>\n",
       "      <th>Inventory</th>\n",
       "      <th>Action</th>\n",
       "      <th>Response</th>\n",
       "      <th>Score</th>\n",
       "      <th>Moves</th>\n",
       "    </tr>\n",
       "  </thead>\n",
       "  <tbody>\n",
       "    <tr>\n",
       "      <th>0</th>\n",
       "      <td>West of House  You are standing in an open...</td>\n",
       "      <td>You are empty-handed.</td>\n",
       "      <td>open door</td>\n",
       "      <td>The door cannot be opened.</td>\n",
       "      <td>0</td>\n",
       "      <td>1</td>\n",
       "    </tr>\n",
       "    <tr>\n",
       "      <th>1</th>\n",
       "      <td>West of House  You are standing in an open fie...</td>\n",
       "      <td>You are empty-handed.</td>\n",
       "      <td>go north</td>\n",
       "      <td>North of House  You are facing the north side ...</td>\n",
       "      <td>0</td>\n",
       "      <td>2</td>\n",
       "    </tr>\n",
       "    <tr>\n",
       "      <th>2</th>\n",
       "      <td>North of House  You are facing the north side ...</td>\n",
       "      <td>You are empty-handed.</td>\n",
       "      <td>read north</td>\n",
       "      <td>&gt;You used the word \"north\" in a way that I don...</td>\n",
       "      <td>0</td>\n",
       "      <td>3</td>\n",
       "    </tr>\n",
       "    <tr>\n",
       "      <th>3</th>\n",
       "      <td>North of House  You are facing the north side ...</td>\n",
       "      <td>You are empty-handed.</td>\n",
       "      <td>read side with door</td>\n",
       "      <td>&gt;I don't know the word \"side\".</td>\n",
       "      <td>0</td>\n",
       "      <td>4</td>\n",
       "    </tr>\n",
       "    <tr>\n",
       "      <th>4</th>\n",
       "      <td>North of House  You are facing the north side ...</td>\n",
       "      <td>You are empty-handed.</td>\n",
       "      <td>fill north</td>\n",
       "      <td>&gt;You used the word \"north\" in a way that I don...</td>\n",
       "      <td>0</td>\n",
       "      <td>5</td>\n",
       "    </tr>\n",
       "    <tr>\n",
       "      <th>5</th>\n",
       "      <td>North of House  You are facing the north side ...</td>\n",
       "      <td>You are empty-handed.</td>\n",
       "      <td>pick door</td>\n",
       "      <td>You can't see any door here!</td>\n",
       "      <td>0</td>\n",
       "      <td>6</td>\n",
       "    </tr>\n",
       "    <tr>\n",
       "      <th>6</th>\n",
       "      <td>North of House  You are facing the north side ...</td>\n",
       "      <td>You are empty-handed.</td>\n",
       "      <td>wear north</td>\n",
       "      <td>&gt;You used the word \"north\" in a way that I don...</td>\n",
       "      <td>0</td>\n",
       "      <td>7</td>\n",
       "    </tr>\n",
       "    <tr>\n",
       "      <th>7</th>\n",
       "      <td>North of House  You are facing the north side ...</td>\n",
       "      <td>You are empty-handed.</td>\n",
       "      <td>put door</td>\n",
       "      <td>&gt;What do you want to put the door in?</td>\n",
       "      <td>0</td>\n",
       "      <td>8</td>\n",
       "    </tr>\n",
       "    <tr>\n",
       "      <th>8</th>\n",
       "      <td>North of House  You are facing the north side ...</td>\n",
       "      <td>You are empty-handed.</td>\n",
       "      <td>go south</td>\n",
       "      <td>The windows are all boarded.</td>\n",
       "      <td>0</td>\n",
       "      <td>9</td>\n",
       "    </tr>\n",
       "    <tr>\n",
       "      <th>9</th>\n",
       "      <td>North of House  You are facing the north side ...</td>\n",
       "      <td>You are empty-handed.</td>\n",
       "      <td>pick door with north</td>\n",
       "      <td>&gt;You used the word \"north\" in a way that I don...</td>\n",
       "      <td>0</td>\n",
       "      <td>10</td>\n",
       "    </tr>\n",
       "    <tr>\n",
       "      <th>10</th>\n",
       "      <td>North of House  You are facing the north side ...</td>\n",
       "      <td>You are empty-handed.</td>\n",
       "      <td>go east</td>\n",
       "      <td>Behind House  You are behind the white house. ...</td>\n",
       "      <td>0</td>\n",
       "      <td>11</td>\n",
       "    </tr>\n",
       "    <tr>\n",
       "      <th>11</th>\n",
       "      <td>Behind House  You are behind the white house. ...</td>\n",
       "      <td>You are empty-handed.</td>\n",
       "      <td>feel window</td>\n",
       "      <td>Fiddling with the kitchen window isn't notably...</td>\n",
       "      <td>0</td>\n",
       "      <td>12</td>\n",
       "    </tr>\n",
       "    <tr>\n",
       "      <th>12</th>\n",
       "      <td>Behind House  You are behind the white house. ...</td>\n",
       "      <td>You are empty-handed.</td>\n",
       "      <td>get window</td>\n",
       "      <td>An interesting idea...</td>\n",
       "      <td>0</td>\n",
       "      <td>13</td>\n",
       "    </tr>\n",
       "    <tr>\n",
       "      <th>13</th>\n",
       "      <td>Behind House  You are behind the white house. ...</td>\n",
       "      <td>You are empty-handed.</td>\n",
       "      <td>read corner with window</td>\n",
       "      <td>&gt;I don't know the word \"corner\".</td>\n",
       "      <td>0</td>\n",
       "      <td>14</td>\n",
       "    </tr>\n",
       "    <tr>\n",
       "      <th>14</th>\n",
       "      <td>Behind House  You are behind the white house. ...</td>\n",
       "      <td>You are empty-handed.</td>\n",
       "      <td>carry path</td>\n",
       "      <td>You must specify a direction to go.</td>\n",
       "      <td>0</td>\n",
       "      <td>15</td>\n",
       "    </tr>\n",
       "    <tr>\n",
       "      <th>15</th>\n",
       "      <td>Behind House  You are behind the white house. ...</td>\n",
       "      <td>You are empty-handed.</td>\n",
       "      <td>wait path</td>\n",
       "      <td>&gt;That sentence isn't one I recognize.</td>\n",
       "      <td>0</td>\n",
       "      <td>16</td>\n",
       "    </tr>\n",
       "    <tr>\n",
       "      <th>16</th>\n",
       "      <td>Behind House  You are behind the white house. ...</td>\n",
       "      <td>You are empty-handed.</td>\n",
       "      <td>unlock path</td>\n",
       "      <td>&gt;What do you want to unlock the path with?</td>\n",
       "      <td>0</td>\n",
       "      <td>17</td>\n",
       "    </tr>\n",
       "    <tr>\n",
       "      <th>17</th>\n",
       "      <td>Behind House  You are behind the white house. ...</td>\n",
       "      <td>You are empty-handed.</td>\n",
       "      <td>play path</td>\n",
       "      <td>That's silly!</td>\n",
       "      <td>0</td>\n",
       "      <td>18</td>\n",
       "    </tr>\n",
       "    <tr>\n",
       "      <th>18</th>\n",
       "      <td>Behind House  You are behind the white house. ...</td>\n",
       "      <td>You are empty-handed.</td>\n",
       "      <td>give path</td>\n",
       "      <td>&gt;What do you want to give the path to?</td>\n",
       "      <td>0</td>\n",
       "      <td>19</td>\n",
       "    </tr>\n",
       "    <tr>\n",
       "      <th>19</th>\n",
       "      <td>Behind House  You are behind the white house. ...</td>\n",
       "      <td>You are empty-handed.</td>\n",
       "      <td>go window</td>\n",
       "      <td>Warning: @jin called with object 0 (PC = 8bea)...</td>\n",
       "      <td>0</td>\n",
       "      <td>20</td>\n",
       "    </tr>\n",
       "    <tr>\n",
       "      <th>20</th>\n",
       "      <td>Behind House  You are behind the white house. ...</td>\n",
       "      <td>You are empty-handed.</td>\n",
       "      <td>go path</td>\n",
       "      <td>You should supply a direction!</td>\n",
       "      <td>0</td>\n",
       "      <td>21</td>\n",
       "    </tr>\n",
       "    <tr>\n",
       "      <th>21</th>\n",
       "      <td>Behind House  You are behind the white house. ...</td>\n",
       "      <td>You are empty-handed.</td>\n",
       "      <td>go east</td>\n",
       "      <td>Clearing  You are in a small clearing in a wel...</td>\n",
       "      <td>0</td>\n",
       "      <td>22</td>\n",
       "    </tr>\n",
       "    <tr>\n",
       "      <th>22</th>\n",
       "      <td>Clearing  You are in a small clearing in a wel...</td>\n",
       "      <td>You are empty-handed.</td>\n",
       "      <td>go east</td>\n",
       "      <td>Canyon View  You are at the top of the Great C...</td>\n",
       "      <td>0</td>\n",
       "      <td>23</td>\n",
       "    </tr>\n",
       "    <tr>\n",
       "      <th>23</th>\n",
       "      <td>Canyon View  You are at the top of the Great C...</td>\n",
       "      <td>You are empty-handed.</td>\n",
       "      <td>read path with canyon</td>\n",
       "      <td>&gt;I don't know the word \"canyon\".</td>\n",
       "      <td>0</td>\n",
       "      <td>24</td>\n",
       "    </tr>\n",
       "    <tr>\n",
       "      <th>24</th>\n",
       "      <td>Canyon View  You are at the top of the Great C...</td>\n",
       "      <td>You are empty-handed.</td>\n",
       "      <td>eat canyon</td>\n",
       "      <td>&gt;I don't know the word \"canyon\".</td>\n",
       "      <td>0</td>\n",
       "      <td>25</td>\n",
       "    </tr>\n",
       "    <tr>\n",
       "      <th>25</th>\n",
       "      <td>Canyon View  You are at the top of the Great C...</td>\n",
       "      <td>You are empty-handed.</td>\n",
       "      <td>fix wall</td>\n",
       "      <td>&gt;What do you want to fix the wall with?</td>\n",
       "      <td>0</td>\n",
       "      <td>26</td>\n",
       "    </tr>\n",
       "    <tr>\n",
       "      <th>26</th>\n",
       "      <td>Canyon View  You are at the top of the Great C...</td>\n",
       "      <td>You are empty-handed.</td>\n",
       "      <td>pick canyon with west</td>\n",
       "      <td>&gt;I don't know the word \"canyon\".</td>\n",
       "      <td>0</td>\n",
       "      <td>27</td>\n",
       "    </tr>\n",
       "    <tr>\n",
       "      <th>27</th>\n",
       "      <td>Canyon View  You are at the top of the Great C...</td>\n",
       "      <td>You are empty-handed.</td>\n",
       "      <td>play cavern</td>\n",
       "      <td>&gt;I don't know the word \"cavern\".</td>\n",
       "      <td>0</td>\n",
       "      <td>28</td>\n",
       "    </tr>\n",
       "    <tr>\n",
       "      <th>28</th>\n",
       "      <td>Canyon View  You are at the top of the Great C...</td>\n",
       "      <td>You are empty-handed.</td>\n",
       "      <td>carry wall from view</td>\n",
       "      <td>&gt;I don't know the word \"view\".</td>\n",
       "      <td>0</td>\n",
       "      <td>29</td>\n",
       "    </tr>\n",
       "    <tr>\n",
       "      <th>29</th>\n",
       "      <td>Canyon View  You are at the top of the Great C...</td>\n",
       "      <td>You are empty-handed.</td>\n",
       "      <td>go wall</td>\n",
       "      <td>You should supply a direction!</td>\n",
       "      <td>0</td>\n",
       "      <td>30</td>\n",
       "    </tr>\n",
       "    <tr>\n",
       "      <th>...</th>\n",
       "      <td>...</td>\n",
       "      <td>...</td>\n",
       "      <td>...</td>\n",
       "      <td>...</td>\n",
       "      <td>...</td>\n",
       "      <td>...</td>\n",
       "    </tr>\n",
       "    <tr>\n",
       "      <th>370</th>\n",
       "      <td>Living Room  You are in the living room. There...</td>\n",
       "      <td>You are carrying:    A sword    A glass bottle...</td>\n",
       "      <td>go east</td>\n",
       "      <td>Kitchen  On the table is an elongated brown sa...</td>\n",
       "      <td>10</td>\n",
       "      <td>371</td>\n",
       "    </tr>\n",
       "    <tr>\n",
       "      <th>371</th>\n",
       "      <td>Kitchen  You are in the kitchen of the white h...</td>\n",
       "      <td>You are carrying:    A sword    A glass bottle...</td>\n",
       "      <td>fill window with passage</td>\n",
       "      <td>That's easy for you to say since you don't eve...</td>\n",
       "      <td>10</td>\n",
       "      <td>372</td>\n",
       "    </tr>\n",
       "    <tr>\n",
       "      <th>372</th>\n",
       "      <td>Kitchen  You are in the kitchen of the white h...</td>\n",
       "      <td>You are carrying:    A sword    A glass bottle...</td>\n",
       "      <td>pick passage with window</td>\n",
       "      <td>You can't pick that.</td>\n",
       "      <td>10</td>\n",
       "      <td>373</td>\n",
       "    </tr>\n",
       "    <tr>\n",
       "      <th>373</th>\n",
       "      <td>Kitchen  You are in the kitchen of the white h...</td>\n",
       "      <td>You are carrying:    A sword    A glass bottle...</td>\n",
       "      <td>break passage</td>\n",
       "      <td>&gt;What do you want to break the passage with?</td>\n",
       "      <td>10</td>\n",
       "      <td>374</td>\n",
       "    </tr>\n",
       "    <tr>\n",
       "      <th>374</th>\n",
       "      <td>Kitchen  You are in the kitchen of the white h...</td>\n",
       "      <td>You are carrying:    A sword    A glass bottle...</td>\n",
       "      <td>make window</td>\n",
       "      <td>You can't do that.</td>\n",
       "      <td>10</td>\n",
       "      <td>375</td>\n",
       "    </tr>\n",
       "    <tr>\n",
       "      <th>375</th>\n",
       "      <td>Kitchen  You are in the kitchen of the white h...</td>\n",
       "      <td>You are carrying:    A sword    A glass bottle...</td>\n",
       "      <td>pick food with window</td>\n",
       "      <td>You can't see any food here!</td>\n",
       "      <td>10</td>\n",
       "      <td>376</td>\n",
       "    </tr>\n",
       "    <tr>\n",
       "      <th>376</th>\n",
       "      <td>Kitchen  You are in the kitchen of the white h...</td>\n",
       "      <td>You are carrying:    A sword    A glass bottle...</td>\n",
       "      <td>feel passage</td>\n",
       "      <td>Fiddling with the way isn't notably helpful.</td>\n",
       "      <td>10</td>\n",
       "      <td>377</td>\n",
       "    </tr>\n",
       "    <tr>\n",
       "      <th>377</th>\n",
       "      <td>Kitchen  You are in the kitchen of the white h...</td>\n",
       "      <td>You are carrying:    A sword    A glass bottle...</td>\n",
       "      <td>find passage</td>\n",
       "      <td>I can't help you there....</td>\n",
       "      <td>10</td>\n",
       "      <td>378</td>\n",
       "    </tr>\n",
       "    <tr>\n",
       "      <th>378</th>\n",
       "      <td>Kitchen  You are in the kitchen of the white h...</td>\n",
       "      <td>You are carrying:    A sword    A glass bottle...</td>\n",
       "      <td>open food</td>\n",
       "      <td>You can't see any food here!</td>\n",
       "      <td>10</td>\n",
       "      <td>379</td>\n",
       "    </tr>\n",
       "    <tr>\n",
       "      <th>379</th>\n",
       "      <td>Kitchen  You are in the kitchen of the white h...</td>\n",
       "      <td>You are carrying:    A sword    A glass bottle...</td>\n",
       "      <td>pick passage</td>\n",
       "      <td>You can't pick that.</td>\n",
       "      <td>10</td>\n",
       "      <td>380</td>\n",
       "    </tr>\n",
       "    <tr>\n",
       "      <th>380</th>\n",
       "      <td>Kitchen  You are in the kitchen of the white h...</td>\n",
       "      <td>You are carrying:    A sword    A glass bottle...</td>\n",
       "      <td>wear window</td>\n",
       "      <td>You can't wear the kitchen window.</td>\n",
       "      <td>10</td>\n",
       "      <td>381</td>\n",
       "    </tr>\n",
       "    <tr>\n",
       "      <th>381</th>\n",
       "      <td>Kitchen  You are in the kitchen of the white h...</td>\n",
       "      <td>You are carrying:    A sword    A glass bottle...</td>\n",
       "      <td>put food</td>\n",
       "      <td>&gt;What do you want to put the food in?</td>\n",
       "      <td>10</td>\n",
       "      <td>382</td>\n",
       "    </tr>\n",
       "    <tr>\n",
       "      <th>382</th>\n",
       "      <td>Kitchen  You are in the kitchen of the white h...</td>\n",
       "      <td>You are carrying:    A sword    A glass bottle...</td>\n",
       "      <td>find window</td>\n",
       "      <td>It's right here.</td>\n",
       "      <td>10</td>\n",
       "      <td>383</td>\n",
       "    </tr>\n",
       "    <tr>\n",
       "      <th>383</th>\n",
       "      <td>Kitchen  You are in the kitchen of the white h...</td>\n",
       "      <td>You are carrying:    A sword    A glass bottle...</td>\n",
       "      <td>squeeze food on passage</td>\n",
       "      <td>You can't see any food here!</td>\n",
       "      <td>10</td>\n",
       "      <td>384</td>\n",
       "    </tr>\n",
       "    <tr>\n",
       "      <th>384</th>\n",
       "      <td>Kitchen  You are in the kitchen of the white h...</td>\n",
       "      <td>You are carrying:    A sword    A glass bottle...</td>\n",
       "      <td>find window</td>\n",
       "      <td>It's right here.</td>\n",
       "      <td>10</td>\n",
       "      <td>385</td>\n",
       "    </tr>\n",
       "    <tr>\n",
       "      <th>385</th>\n",
       "      <td>Kitchen  You are in the kitchen of the white h...</td>\n",
       "      <td>You are carrying:    A sword    A glass bottle...</td>\n",
       "      <td>leave food</td>\n",
       "      <td>You can't see any food here!</td>\n",
       "      <td>10</td>\n",
       "      <td>386</td>\n",
       "    </tr>\n",
       "    <tr>\n",
       "      <th>386</th>\n",
       "      <td>Kitchen  You are in the kitchen of the white h...</td>\n",
       "      <td>You are carrying:    A sword    A glass bottle...</td>\n",
       "      <td>put passage</td>\n",
       "      <td>&gt;What do you want to put the passage in?</td>\n",
       "      <td>10</td>\n",
       "      <td>387</td>\n",
       "    </tr>\n",
       "    <tr>\n",
       "      <th>387</th>\n",
       "      <td>Kitchen  You are in the kitchen of the white h...</td>\n",
       "      <td>You are carrying:    A sword    A glass bottle...</td>\n",
       "      <td>read window</td>\n",
       "      <td>How does one read a kitchen window?</td>\n",
       "      <td>10</td>\n",
       "      <td>388</td>\n",
       "    </tr>\n",
       "    <tr>\n",
       "      <th>388</th>\n",
       "      <td>Kitchen  You are in the kitchen of the white h...</td>\n",
       "      <td>You are carrying:    A sword    A glass bottle...</td>\n",
       "      <td>enter passage</td>\n",
       "      <td>You hit your head against the way as you attem...</td>\n",
       "      <td>10</td>\n",
       "      <td>389</td>\n",
       "    </tr>\n",
       "    <tr>\n",
       "      <th>389</th>\n",
       "      <td>Kitchen  You are in the kitchen of the white h...</td>\n",
       "      <td>You are carrying:    A sword    A glass bottle...</td>\n",
       "      <td>read food with passage</td>\n",
       "      <td>You can't see any food here!</td>\n",
       "      <td>10</td>\n",
       "      <td>390</td>\n",
       "    </tr>\n",
       "    <tr>\n",
       "      <th>390</th>\n",
       "      <td>Kitchen  You are in the kitchen of the white h...</td>\n",
       "      <td>You are carrying:    A sword    A glass bottle...</td>\n",
       "      <td>go northwest</td>\n",
       "      <td>You can't go that way.</td>\n",
       "      <td>10</td>\n",
       "      <td>391</td>\n",
       "    </tr>\n",
       "    <tr>\n",
       "      <th>391</th>\n",
       "      <td>Kitchen  You are in the kitchen of the white h...</td>\n",
       "      <td>You are carrying:    A sword    A glass bottle...</td>\n",
       "      <td>pull passage</td>\n",
       "      <td>You can't move the way.</td>\n",
       "      <td>10</td>\n",
       "      <td>392</td>\n",
       "    </tr>\n",
       "    <tr>\n",
       "      <th>392</th>\n",
       "      <td>Kitchen  You are in the kitchen of the white h...</td>\n",
       "      <td>You are carrying:    A sword    A glass bottle...</td>\n",
       "      <td>pick passage with food</td>\n",
       "      <td>You can't see any food here!</td>\n",
       "      <td>10</td>\n",
       "      <td>393</td>\n",
       "    </tr>\n",
       "    <tr>\n",
       "      <th>393</th>\n",
       "      <td>Kitchen  You are in the kitchen of the white h...</td>\n",
       "      <td>You are carrying:    A sword    A glass bottle...</td>\n",
       "      <td>read window with food</td>\n",
       "      <td>You can't see any food here!</td>\n",
       "      <td>10</td>\n",
       "      <td>394</td>\n",
       "    </tr>\n",
       "    <tr>\n",
       "      <th>394</th>\n",
       "      <td>Kitchen  You are in the kitchen of the white h...</td>\n",
       "      <td>You are carrying:    A sword    A glass bottle...</td>\n",
       "      <td>kick passage</td>\n",
       "      <td>Kicking the way isn't notably helpful.</td>\n",
       "      <td>10</td>\n",
       "      <td>395</td>\n",
       "    </tr>\n",
       "    <tr>\n",
       "      <th>395</th>\n",
       "      <td>Kitchen  You are in the kitchen of the white h...</td>\n",
       "      <td>You are carrying:    A sword    A glass bottle...</td>\n",
       "      <td>pull window</td>\n",
       "      <td>You can't move the kitchen window.</td>\n",
       "      <td>10</td>\n",
       "      <td>396</td>\n",
       "    </tr>\n",
       "    <tr>\n",
       "      <th>396</th>\n",
       "      <td>Kitchen  You are in the kitchen of the white h...</td>\n",
       "      <td>You are carrying:    A sword    A glass bottle...</td>\n",
       "      <td>wear passage</td>\n",
       "      <td>You can't wear the way.</td>\n",
       "      <td>10</td>\n",
       "      <td>397</td>\n",
       "    </tr>\n",
       "    <tr>\n",
       "      <th>397</th>\n",
       "      <td>Kitchen  You are in the kitchen of the white h...</td>\n",
       "      <td>You are carrying:    A sword    A glass bottle...</td>\n",
       "      <td>get food</td>\n",
       "      <td>You can't see any food here!</td>\n",
       "      <td>10</td>\n",
       "      <td>398</td>\n",
       "    </tr>\n",
       "    <tr>\n",
       "      <th>398</th>\n",
       "      <td>Kitchen  You are in the kitchen of the white h...</td>\n",
       "      <td>You are carrying:    A sword    A glass bottle...</td>\n",
       "      <td>go southeast</td>\n",
       "      <td>You can't go that way.</td>\n",
       "      <td>10</td>\n",
       "      <td>399</td>\n",
       "    </tr>\n",
       "    <tr>\n",
       "      <th>399</th>\n",
       "      <td>Kitchen  You are in the kitchen of the white h...</td>\n",
       "      <td>You are carrying:    A sword    A glass bottle...</td>\n",
       "      <td>carry passage</td>\n",
       "      <td>You must specify a direction to go.</td>\n",
       "      <td>10</td>\n",
       "      <td>400</td>\n",
       "    </tr>\n",
       "  </tbody>\n",
       "</table>\n",
       "<p>400 rows × 6 columns</p>\n",
       "</div>"
      ],
      "text/plain": [
       "                                          Surroundings  \\\n",
       "0        West of House  You are standing in an open...   \n",
       "1    West of House  You are standing in an open fie...   \n",
       "2    North of House  You are facing the north side ...   \n",
       "3    North of House  You are facing the north side ...   \n",
       "4    North of House  You are facing the north side ...   \n",
       "5    North of House  You are facing the north side ...   \n",
       "6    North of House  You are facing the north side ...   \n",
       "7    North of House  You are facing the north side ...   \n",
       "8    North of House  You are facing the north side ...   \n",
       "9    North of House  You are facing the north side ...   \n",
       "10   North of House  You are facing the north side ...   \n",
       "11   Behind House  You are behind the white house. ...   \n",
       "12   Behind House  You are behind the white house. ...   \n",
       "13   Behind House  You are behind the white house. ...   \n",
       "14   Behind House  You are behind the white house. ...   \n",
       "15   Behind House  You are behind the white house. ...   \n",
       "16   Behind House  You are behind the white house. ...   \n",
       "17   Behind House  You are behind the white house. ...   \n",
       "18   Behind House  You are behind the white house. ...   \n",
       "19   Behind House  You are behind the white house. ...   \n",
       "20   Behind House  You are behind the white house. ...   \n",
       "21   Behind House  You are behind the white house. ...   \n",
       "22   Clearing  You are in a small clearing in a wel...   \n",
       "23   Canyon View  You are at the top of the Great C...   \n",
       "24   Canyon View  You are at the top of the Great C...   \n",
       "25   Canyon View  You are at the top of the Great C...   \n",
       "26   Canyon View  You are at the top of the Great C...   \n",
       "27   Canyon View  You are at the top of the Great C...   \n",
       "28   Canyon View  You are at the top of the Great C...   \n",
       "29   Canyon View  You are at the top of the Great C...   \n",
       "..                                                 ...   \n",
       "370  Living Room  You are in the living room. There...   \n",
       "371  Kitchen  You are in the kitchen of the white h...   \n",
       "372  Kitchen  You are in the kitchen of the white h...   \n",
       "373  Kitchen  You are in the kitchen of the white h...   \n",
       "374  Kitchen  You are in the kitchen of the white h...   \n",
       "375  Kitchen  You are in the kitchen of the white h...   \n",
       "376  Kitchen  You are in the kitchen of the white h...   \n",
       "377  Kitchen  You are in the kitchen of the white h...   \n",
       "378  Kitchen  You are in the kitchen of the white h...   \n",
       "379  Kitchen  You are in the kitchen of the white h...   \n",
       "380  Kitchen  You are in the kitchen of the white h...   \n",
       "381  Kitchen  You are in the kitchen of the white h...   \n",
       "382  Kitchen  You are in the kitchen of the white h...   \n",
       "383  Kitchen  You are in the kitchen of the white h...   \n",
       "384  Kitchen  You are in the kitchen of the white h...   \n",
       "385  Kitchen  You are in the kitchen of the white h...   \n",
       "386  Kitchen  You are in the kitchen of the white h...   \n",
       "387  Kitchen  You are in the kitchen of the white h...   \n",
       "388  Kitchen  You are in the kitchen of the white h...   \n",
       "389  Kitchen  You are in the kitchen of the white h...   \n",
       "390  Kitchen  You are in the kitchen of the white h...   \n",
       "391  Kitchen  You are in the kitchen of the white h...   \n",
       "392  Kitchen  You are in the kitchen of the white h...   \n",
       "393  Kitchen  You are in the kitchen of the white h...   \n",
       "394  Kitchen  You are in the kitchen of the white h...   \n",
       "395  Kitchen  You are in the kitchen of the white h...   \n",
       "396  Kitchen  You are in the kitchen of the white h...   \n",
       "397  Kitchen  You are in the kitchen of the white h...   \n",
       "398  Kitchen  You are in the kitchen of the white h...   \n",
       "399  Kitchen  You are in the kitchen of the white h...   \n",
       "\n",
       "                                             Inventory  \\\n",
       "0                                You are empty-handed.   \n",
       "1                                You are empty-handed.   \n",
       "2                                You are empty-handed.   \n",
       "3                                You are empty-handed.   \n",
       "4                                You are empty-handed.   \n",
       "5                                You are empty-handed.   \n",
       "6                                You are empty-handed.   \n",
       "7                                You are empty-handed.   \n",
       "8                                You are empty-handed.   \n",
       "9                                You are empty-handed.   \n",
       "10                               You are empty-handed.   \n",
       "11                               You are empty-handed.   \n",
       "12                               You are empty-handed.   \n",
       "13                               You are empty-handed.   \n",
       "14                               You are empty-handed.   \n",
       "15                               You are empty-handed.   \n",
       "16                               You are empty-handed.   \n",
       "17                               You are empty-handed.   \n",
       "18                               You are empty-handed.   \n",
       "19                               You are empty-handed.   \n",
       "20                               You are empty-handed.   \n",
       "21                               You are empty-handed.   \n",
       "22                               You are empty-handed.   \n",
       "23                               You are empty-handed.   \n",
       "24                               You are empty-handed.   \n",
       "25                               You are empty-handed.   \n",
       "26                               You are empty-handed.   \n",
       "27                               You are empty-handed.   \n",
       "28                               You are empty-handed.   \n",
       "29                               You are empty-handed.   \n",
       "..                                                 ...   \n",
       "370  You are carrying:    A sword    A glass bottle...   \n",
       "371  You are carrying:    A sword    A glass bottle...   \n",
       "372  You are carrying:    A sword    A glass bottle...   \n",
       "373  You are carrying:    A sword    A glass bottle...   \n",
       "374  You are carrying:    A sword    A glass bottle...   \n",
       "375  You are carrying:    A sword    A glass bottle...   \n",
       "376  You are carrying:    A sword    A glass bottle...   \n",
       "377  You are carrying:    A sword    A glass bottle...   \n",
       "378  You are carrying:    A sword    A glass bottle...   \n",
       "379  You are carrying:    A sword    A glass bottle...   \n",
       "380  You are carrying:    A sword    A glass bottle...   \n",
       "381  You are carrying:    A sword    A glass bottle...   \n",
       "382  You are carrying:    A sword    A glass bottle...   \n",
       "383  You are carrying:    A sword    A glass bottle...   \n",
       "384  You are carrying:    A sword    A glass bottle...   \n",
       "385  You are carrying:    A sword    A glass bottle...   \n",
       "386  You are carrying:    A sword    A glass bottle...   \n",
       "387  You are carrying:    A sword    A glass bottle...   \n",
       "388  You are carrying:    A sword    A glass bottle...   \n",
       "389  You are carrying:    A sword    A glass bottle...   \n",
       "390  You are carrying:    A sword    A glass bottle...   \n",
       "391  You are carrying:    A sword    A glass bottle...   \n",
       "392  You are carrying:    A sword    A glass bottle...   \n",
       "393  You are carrying:    A sword    A glass bottle...   \n",
       "394  You are carrying:    A sword    A glass bottle...   \n",
       "395  You are carrying:    A sword    A glass bottle...   \n",
       "396  You are carrying:    A sword    A glass bottle...   \n",
       "397  You are carrying:    A sword    A glass bottle...   \n",
       "398  You are carrying:    A sword    A glass bottle...   \n",
       "399  You are carrying:    A sword    A glass bottle...   \n",
       "\n",
       "                       Action  \\\n",
       "0                   open door   \n",
       "1                    go north   \n",
       "2                  read north   \n",
       "3         read side with door   \n",
       "4                  fill north   \n",
       "5                   pick door   \n",
       "6                  wear north   \n",
       "7                    put door   \n",
       "8                    go south   \n",
       "9        pick door with north   \n",
       "10                    go east   \n",
       "11                feel window   \n",
       "12                 get window   \n",
       "13    read corner with window   \n",
       "14                 carry path   \n",
       "15                  wait path   \n",
       "16                unlock path   \n",
       "17                  play path   \n",
       "18                  give path   \n",
       "19                  go window   \n",
       "20                    go path   \n",
       "21                    go east   \n",
       "22                    go east   \n",
       "23      read path with canyon   \n",
       "24                 eat canyon   \n",
       "25                   fix wall   \n",
       "26      pick canyon with west   \n",
       "27                play cavern   \n",
       "28       carry wall from view   \n",
       "29                    go wall   \n",
       "..                        ...   \n",
       "370                   go east   \n",
       "371  fill window with passage   \n",
       "372  pick passage with window   \n",
       "373             break passage   \n",
       "374               make window   \n",
       "375     pick food with window   \n",
       "376              feel passage   \n",
       "377              find passage   \n",
       "378                 open food   \n",
       "379              pick passage   \n",
       "380               wear window   \n",
       "381                  put food   \n",
       "382               find window   \n",
       "383   squeeze food on passage   \n",
       "384               find window   \n",
       "385                leave food   \n",
       "386               put passage   \n",
       "387               read window   \n",
       "388             enter passage   \n",
       "389    read food with passage   \n",
       "390              go northwest   \n",
       "391              pull passage   \n",
       "392    pick passage with food   \n",
       "393     read window with food   \n",
       "394              kick passage   \n",
       "395               pull window   \n",
       "396              wear passage   \n",
       "397                  get food   \n",
       "398              go southeast   \n",
       "399             carry passage   \n",
       "\n",
       "                                              Response Score Moves  \n",
       "0                           The door cannot be opened.     0     1  \n",
       "1    North of House  You are facing the north side ...     0     2  \n",
       "2    >You used the word \"north\" in a way that I don...     0     3  \n",
       "3                   >I don't know the word \"side\".         0     4  \n",
       "4    >You used the word \"north\" in a way that I don...     0     5  \n",
       "5                         You can't see any door here!     0     6  \n",
       "6    >You used the word \"north\" in a way that I don...     0     7  \n",
       "7            >What do you want to put the door in?         0     8  \n",
       "8                         The windows are all boarded.     0     9  \n",
       "9    >You used the word \"north\" in a way that I don...     0    10  \n",
       "10   Behind House  You are behind the white house. ...     0    11  \n",
       "11   Fiddling with the kitchen window isn't notably...     0    12  \n",
       "12                              An interesting idea...     0    13  \n",
       "13                >I don't know the word \"corner\".         0    14  \n",
       "14                 You must specify a direction to go.     0    15  \n",
       "15           >That sentence isn't one I recognize.         0    16  \n",
       "16      >What do you want to unlock the path with?         0    17  \n",
       "17                                       That's silly!     0    18  \n",
       "18          >What do you want to give the path to?         0    19  \n",
       "19   Warning: @jin called with object 0 (PC = 8bea)...     0    20  \n",
       "20                      You should supply a direction!     0    21  \n",
       "21   Clearing  You are in a small clearing in a wel...     0    22  \n",
       "22   Canyon View  You are at the top of the Great C...     0    23  \n",
       "23                >I don't know the word \"canyon\".         0    24  \n",
       "24                >I don't know the word \"canyon\".         0    25  \n",
       "25         >What do you want to fix the wall with?         0    26  \n",
       "26                >I don't know the word \"canyon\".         0    27  \n",
       "27                >I don't know the word \"cavern\".         0    28  \n",
       "28                  >I don't know the word \"view\".         0    29  \n",
       "29                      You should supply a direction!     0    30  \n",
       "..                                                 ...   ...   ...  \n",
       "370  Kitchen  On the table is an elongated brown sa...    10   371  \n",
       "371  That's easy for you to say since you don't eve...    10   372  \n",
       "372                               You can't pick that.    10   373  \n",
       "373   >What do you want to break the passage with?        10   374  \n",
       "374                                 You can't do that.    10   375  \n",
       "375                       You can't see any food here!    10   376  \n",
       "376       Fiddling with the way isn't notably helpful.    10   377  \n",
       "377                         I can't help you there....    10   378  \n",
       "378                       You can't see any food here!    10   379  \n",
       "379                               You can't pick that.    10   380  \n",
       "380                 You can't wear the kitchen window.    10   381  \n",
       "381          >What do you want to put the food in?        10   382  \n",
       "382                                   It's right here.    10   383  \n",
       "383                       You can't see any food here!    10   384  \n",
       "384                                   It's right here.    10   385  \n",
       "385                       You can't see any food here!    10   386  \n",
       "386       >What do you want to put the passage in?        10   387  \n",
       "387                How does one read a kitchen window?    10   388  \n",
       "388  You hit your head against the way as you attem...    10   389  \n",
       "389                       You can't see any food here!    10   390  \n",
       "390                             You can't go that way.    10   391  \n",
       "391                            You can't move the way.    10   392  \n",
       "392                       You can't see any food here!    10   393  \n",
       "393                       You can't see any food here!    10   394  \n",
       "394             Kicking the way isn't notably helpful.    10   395  \n",
       "395                 You can't move the kitchen window.    10   396  \n",
       "396                            You can't wear the way.    10   397  \n",
       "397                       You can't see any food here!    10   398  \n",
       "398                             You can't go that way.    10   399  \n",
       "399                You must specify a direction to go.    10   400  \n",
       "\n",
       "[400 rows x 6 columns]"
      ]
     },
     "execution_count": 328,
     "metadata": {},
     "output_type": "execute_result"
    }
   ],
   "source": [
    "story"
   ]
  },
  {
   "cell_type": "code",
   "execution_count": 335,
   "metadata": {},
   "outputs": [
    {
     "data": {
      "text/html": [
       "<div>\n",
       "<style scoped>\n",
       "    .dataframe tbody tr th:only-of-type {\n",
       "        vertical-align: middle;\n",
       "    }\n",
       "\n",
       "    .dataframe tbody tr th {\n",
       "        vertical-align: top;\n",
       "    }\n",
       "\n",
       "    .dataframe thead th {\n",
       "        text-align: right;\n",
       "    }\n",
       "</style>\n",
       "<table border=\"1\" class=\"dataframe\">\n",
       "  <thead>\n",
       "    <tr style=\"text-align: right;\">\n",
       "      <th></th>\n",
       "      <th>Action</th>\n",
       "      <th>Prob</th>\n",
       "    </tr>\n",
       "  </thead>\n",
       "  <tbody>\n",
       "    <tr>\n",
       "      <th>376</th>\n",
       "      <td>go south</td>\n",
       "      <td>0.013467</td>\n",
       "    </tr>\n",
       "    <tr>\n",
       "      <th>2426</th>\n",
       "      <td>go west</td>\n",
       "      <td>0.013459</td>\n",
       "    </tr>\n",
       "    <tr>\n",
       "      <th>1996</th>\n",
       "      <td>go east</td>\n",
       "      <td>0.013450</td>\n",
       "    </tr>\n",
       "    <tr>\n",
       "      <th>176</th>\n",
       "      <td>go north</td>\n",
       "      <td>0.013447</td>\n",
       "    </tr>\n",
       "    <tr>\n",
       "      <th>1853</th>\n",
       "      <td>go northwest</td>\n",
       "      <td>0.013264</td>\n",
       "    </tr>\n",
       "    <tr>\n",
       "      <th>1120</th>\n",
       "      <td>go northeast</td>\n",
       "      <td>0.012702</td>\n",
       "    </tr>\n",
       "    <tr>\n",
       "      <th>881</th>\n",
       "      <td>go southeast</td>\n",
       "      <td>0.012380</td>\n",
       "    </tr>\n",
       "    <tr>\n",
       "      <th>1783</th>\n",
       "      <td>go southwest</td>\n",
       "      <td>0.012195</td>\n",
       "    </tr>\n",
       "    <tr>\n",
       "      <th>504</th>\n",
       "      <td>get passage</td>\n",
       "      <td>0.012023</td>\n",
       "    </tr>\n",
       "    <tr>\n",
       "      <th>1574</th>\n",
       "      <td>go passage</td>\n",
       "      <td>0.012014</td>\n",
       "    </tr>\n",
       "    <tr>\n",
       "      <th>1150</th>\n",
       "      <td>open passage</td>\n",
       "      <td>0.011963</td>\n",
       "    </tr>\n",
       "    <tr>\n",
       "      <th>445</th>\n",
       "      <td>go food</td>\n",
       "      <td>0.011843</td>\n",
       "    </tr>\n",
       "    <tr>\n",
       "      <th>1741</th>\n",
       "      <td>find passage</td>\n",
       "      <td>0.011826</td>\n",
       "    </tr>\n",
       "    <tr>\n",
       "      <th>243</th>\n",
       "      <td>open food</td>\n",
       "      <td>0.011821</td>\n",
       "    </tr>\n",
       "    <tr>\n",
       "      <th>1984</th>\n",
       "      <td>wait passage</td>\n",
       "      <td>0.011732</td>\n",
       "    </tr>\n",
       "    <tr>\n",
       "      <th>2329</th>\n",
       "      <td>get food</td>\n",
       "      <td>0.011709</td>\n",
       "    </tr>\n",
       "    <tr>\n",
       "      <th>360</th>\n",
       "      <td>wait food</td>\n",
       "      <td>0.011692</td>\n",
       "    </tr>\n",
       "    <tr>\n",
       "      <th>2719</th>\n",
       "      <td>put passage</td>\n",
       "      <td>0.011683</td>\n",
       "    </tr>\n",
       "    <tr>\n",
       "      <th>1373</th>\n",
       "      <td>read passage</td>\n",
       "      <td>0.011541</td>\n",
       "    </tr>\n",
       "    <tr>\n",
       "      <th>1290</th>\n",
       "      <td>read food</td>\n",
       "      <td>0.011531</td>\n",
       "    </tr>\n",
       "    <tr>\n",
       "      <th>949</th>\n",
       "      <td>find food</td>\n",
       "      <td>0.011516</td>\n",
       "    </tr>\n",
       "    <tr>\n",
       "      <th>716</th>\n",
       "      <td>pick food</td>\n",
       "      <td>0.011475</td>\n",
       "    </tr>\n",
       "    <tr>\n",
       "      <th>2147</th>\n",
       "      <td>leave food</td>\n",
       "      <td>0.011439</td>\n",
       "    </tr>\n",
       "    <tr>\n",
       "      <th>1570</th>\n",
       "      <td>play food</td>\n",
       "      <td>0.011394</td>\n",
       "    </tr>\n",
       "    <tr>\n",
       "      <th>2784</th>\n",
       "      <td>leave passage</td>\n",
       "      <td>0.011362</td>\n",
       "    </tr>\n",
       "    <tr>\n",
       "      <th>1023</th>\n",
       "      <td>put food</td>\n",
       "      <td>0.011352</td>\n",
       "    </tr>\n",
       "    <tr>\n",
       "      <th>925</th>\n",
       "      <td>pick passage</td>\n",
       "      <td>0.011297</td>\n",
       "    </tr>\n",
       "    <tr>\n",
       "      <th>1042</th>\n",
       "      <td>carry passage</td>\n",
       "      <td>0.011196</td>\n",
       "    </tr>\n",
       "    <tr>\n",
       "      <th>2297</th>\n",
       "      <td>play passage</td>\n",
       "      <td>0.011164</td>\n",
       "    </tr>\n",
       "    <tr>\n",
       "      <th>1088</th>\n",
       "      <td>pull passage</td>\n",
       "      <td>0.011068</td>\n",
       "    </tr>\n",
       "    <tr>\n",
       "      <th>...</th>\n",
       "      <td>...</td>\n",
       "      <td>...</td>\n",
       "    </tr>\n",
       "    <tr>\n",
       "      <th>244</th>\n",
       "      <td>wear food</td>\n",
       "      <td>0.007720</td>\n",
       "    </tr>\n",
       "    <tr>\n",
       "      <th>1155</th>\n",
       "      <td>read passage with food</td>\n",
       "      <td>0.007556</td>\n",
       "    </tr>\n",
       "    <tr>\n",
       "      <th>1013</th>\n",
       "      <td>wear passage</td>\n",
       "      <td>0.007358</td>\n",
       "    </tr>\n",
       "    <tr>\n",
       "      <th>425</th>\n",
       "      <td>pick passage with food</td>\n",
       "      <td>0.007240</td>\n",
       "    </tr>\n",
       "    <tr>\n",
       "      <th>2201</th>\n",
       "      <td>carry food from passage</td>\n",
       "      <td>0.007172</td>\n",
       "    </tr>\n",
       "    <tr>\n",
       "      <th>92</th>\n",
       "      <td>carry passage from food</td>\n",
       "      <td>0.006947</td>\n",
       "    </tr>\n",
       "    <tr>\n",
       "      <th>1458</th>\n",
       "      <td>set food</td>\n",
       "      <td>0.006784</td>\n",
       "    </tr>\n",
       "    <tr>\n",
       "      <th>250</th>\n",
       "      <td>d</td>\n",
       "      <td>0.006747</td>\n",
       "    </tr>\n",
       "    <tr>\n",
       "      <th>2742</th>\n",
       "      <td>u</td>\n",
       "      <td>0.006747</td>\n",
       "    </tr>\n",
       "    <tr>\n",
       "      <th>330</th>\n",
       "      <td>kick food</td>\n",
       "      <td>0.006124</td>\n",
       "    </tr>\n",
       "    <tr>\n",
       "      <th>2809</th>\n",
       "      <td>wear window</td>\n",
       "      <td>0.006099</td>\n",
       "    </tr>\n",
       "    <tr>\n",
       "      <th>1474</th>\n",
       "      <td>read window with passage</td>\n",
       "      <td>0.006023</td>\n",
       "    </tr>\n",
       "    <tr>\n",
       "      <th>490</th>\n",
       "      <td>read window with food</td>\n",
       "      <td>0.005823</td>\n",
       "    </tr>\n",
       "    <tr>\n",
       "      <th>1148</th>\n",
       "      <td>read passage with window</td>\n",
       "      <td>0.005620</td>\n",
       "    </tr>\n",
       "    <tr>\n",
       "      <th>1086</th>\n",
       "      <td>read food with window</td>\n",
       "      <td>0.005610</td>\n",
       "    </tr>\n",
       "    <tr>\n",
       "      <th>606</th>\n",
       "      <td>kick passage</td>\n",
       "      <td>0.005593</td>\n",
       "    </tr>\n",
       "    <tr>\n",
       "      <th>2074</th>\n",
       "      <td>set passage</td>\n",
       "      <td>0.005589</td>\n",
       "    </tr>\n",
       "    <tr>\n",
       "      <th>1769</th>\n",
       "      <td>carry window from passage</td>\n",
       "      <td>0.005564</td>\n",
       "    </tr>\n",
       "    <tr>\n",
       "      <th>2665</th>\n",
       "      <td>pick food with window</td>\n",
       "      <td>0.005554</td>\n",
       "    </tr>\n",
       "    <tr>\n",
       "      <th>1811</th>\n",
       "      <td>pick passage with window</td>\n",
       "      <td>0.005381</td>\n",
       "    </tr>\n",
       "    <tr>\n",
       "      <th>1882</th>\n",
       "      <td>break passage</td>\n",
       "      <td>0.005380</td>\n",
       "    </tr>\n",
       "    <tr>\n",
       "      <th>373</th>\n",
       "      <td>carry window from food</td>\n",
       "      <td>0.005241</td>\n",
       "    </tr>\n",
       "    <tr>\n",
       "      <th>375</th>\n",
       "      <td>carry passage from window</td>\n",
       "      <td>0.005201</td>\n",
       "    </tr>\n",
       "    <tr>\n",
       "      <th>863</th>\n",
       "      <td>set window</td>\n",
       "      <td>0.005172</td>\n",
       "    </tr>\n",
       "    <tr>\n",
       "      <th>1636</th>\n",
       "      <td>carry food from window</td>\n",
       "      <td>0.005060</td>\n",
       "    </tr>\n",
       "    <tr>\n",
       "      <th>232</th>\n",
       "      <td>pick window with passage</td>\n",
       "      <td>0.005011</td>\n",
       "    </tr>\n",
       "    <tr>\n",
       "      <th>2275</th>\n",
       "      <td>pick window with food</td>\n",
       "      <td>0.004843</td>\n",
       "    </tr>\n",
       "    <tr>\n",
       "      <th>1207</th>\n",
       "      <td>break food</td>\n",
       "      <td>0.004698</td>\n",
       "    </tr>\n",
       "    <tr>\n",
       "      <th>545</th>\n",
       "      <td>fill passage with food</td>\n",
       "      <td>0.004493</td>\n",
       "    </tr>\n",
       "    <tr>\n",
       "      <th>624</th>\n",
       "      <td>kick window</td>\n",
       "      <td>0.004257</td>\n",
       "    </tr>\n",
       "  </tbody>\n",
       "</table>\n",
       "<p>100 rows × 2 columns</p>\n",
       "</div>"
      ],
      "text/plain": [
       "                         Action      Prob\n",
       "376                    go south  0.013467\n",
       "2426                    go west  0.013459\n",
       "1996                    go east  0.013450\n",
       "176                    go north  0.013447\n",
       "1853               go northwest  0.013264\n",
       "1120               go northeast  0.012702\n",
       "881                go southeast  0.012380\n",
       "1783               go southwest  0.012195\n",
       "504                 get passage  0.012023\n",
       "1574                 go passage  0.012014\n",
       "1150               open passage  0.011963\n",
       "445                     go food  0.011843\n",
       "1741               find passage  0.011826\n",
       "243                   open food  0.011821\n",
       "1984               wait passage  0.011732\n",
       "2329                   get food  0.011709\n",
       "360                   wait food  0.011692\n",
       "2719                put passage  0.011683\n",
       "1373               read passage  0.011541\n",
       "1290                  read food  0.011531\n",
       "949                   find food  0.011516\n",
       "716                   pick food  0.011475\n",
       "2147                 leave food  0.011439\n",
       "1570                  play food  0.011394\n",
       "2784              leave passage  0.011362\n",
       "1023                   put food  0.011352\n",
       "925                pick passage  0.011297\n",
       "1042              carry passage  0.011196\n",
       "2297               play passage  0.011164\n",
       "1088               pull passage  0.011068\n",
       "...                         ...       ...\n",
       "244                   wear food  0.007720\n",
       "1155     read passage with food  0.007556\n",
       "1013               wear passage  0.007358\n",
       "425      pick passage with food  0.007240\n",
       "2201    carry food from passage  0.007172\n",
       "92      carry passage from food  0.006947\n",
       "1458                   set food  0.006784\n",
       "250                           d  0.006747\n",
       "2742                          u  0.006747\n",
       "330                   kick food  0.006124\n",
       "2809                wear window  0.006099\n",
       "1474   read window with passage  0.006023\n",
       "490       read window with food  0.005823\n",
       "1148   read passage with window  0.005620\n",
       "1086      read food with window  0.005610\n",
       "606                kick passage  0.005593\n",
       "2074                set passage  0.005589\n",
       "1769  carry window from passage  0.005564\n",
       "2665      pick food with window  0.005554\n",
       "1811   pick passage with window  0.005381\n",
       "1882              break passage  0.005380\n",
       "373      carry window from food  0.005241\n",
       "375   carry passage from window  0.005201\n",
       "863                  set window  0.005172\n",
       "1636     carry food from window  0.005060\n",
       "232    pick window with passage  0.005011\n",
       "2275      pick window with food  0.004843\n",
       "1207                 break food  0.004698\n",
       "545      fill passage with food  0.004493\n",
       "624                 kick window  0.004257\n",
       "\n",
       "[100 rows x 2 columns]"
      ]
     },
     "execution_count": 335,
     "metadata": {},
     "output_type": "execute_result"
    }
   ],
   "source": [
    "df.sort_values(by='Prob', ascending=False).head(100)"
   ]
  },
  {
   "cell_type": "code",
   "execution_count": 296,
   "metadata": {},
   "outputs": [
    {
     "data": {
      "text/html": [
       "<div>\n",
       "<style scoped>\n",
       "    .dataframe tbody tr th:only-of-type {\n",
       "        vertical-align: middle;\n",
       "    }\n",
       "\n",
       "    .dataframe tbody tr th {\n",
       "        vertical-align: top;\n",
       "    }\n",
       "\n",
       "    .dataframe thead th {\n",
       "        text-align: right;\n",
       "    }\n",
       "</style>\n",
       "<table border=\"1\" class=\"dataframe\">\n",
       "  <thead>\n",
       "    <tr style=\"text-align: right;\">\n",
       "      <th></th>\n",
       "      <th>Action</th>\n",
       "      <th>Prob</th>\n",
       "    </tr>\n",
       "  </thead>\n",
       "  <tbody>\n",
       "    <tr>\n",
       "      <th>228</th>\n",
       "      <td>go south</td>\n",
       "      <td>3.307232e-02</td>\n",
       "    </tr>\n",
       "    <tr>\n",
       "      <th>196</th>\n",
       "      <td>go west</td>\n",
       "      <td>3.305153e-02</td>\n",
       "    </tr>\n",
       "    <tr>\n",
       "      <th>368</th>\n",
       "      <td>go east</td>\n",
       "      <td>3.302998e-02</td>\n",
       "    </tr>\n",
       "    <tr>\n",
       "      <th>125</th>\n",
       "      <td>go north</td>\n",
       "      <td>3.302246e-02</td>\n",
       "    </tr>\n",
       "    <tr>\n",
       "      <th>19</th>\n",
       "      <td>open door</td>\n",
       "      <td>3.289401e-02</td>\n",
       "    </tr>\n",
       "    <tr>\n",
       "      <th>251</th>\n",
       "      <td>go door</td>\n",
       "      <td>3.288875e-02</td>\n",
       "    </tr>\n",
       "    <tr>\n",
       "      <th>351</th>\n",
       "      <td>get door</td>\n",
       "      <td>3.278160e-02</td>\n",
       "    </tr>\n",
       "    <tr>\n",
       "      <th>287</th>\n",
       "      <td>go northwest</td>\n",
       "      <td>3.257438e-02</td>\n",
       "    </tr>\n",
       "    <tr>\n",
       "      <th>389</th>\n",
       "      <td>read door</td>\n",
       "      <td>3.239859e-02</td>\n",
       "    </tr>\n",
       "    <tr>\n",
       "      <th>12</th>\n",
       "      <td>put door</td>\n",
       "      <td>3.203310e-02</td>\n",
       "    </tr>\n",
       "    <tr>\n",
       "      <th>96</th>\n",
       "      <td>find door</td>\n",
       "      <td>3.200111e-02</td>\n",
       "    </tr>\n",
       "    <tr>\n",
       "      <th>216</th>\n",
       "      <td>wait door</td>\n",
       "      <td>3.188927e-02</td>\n",
       "    </tr>\n",
       "    <tr>\n",
       "      <th>263</th>\n",
       "      <td>go northeast</td>\n",
       "      <td>3.119320e-02</td>\n",
       "    </tr>\n",
       "    <tr>\n",
       "      <th>376</th>\n",
       "      <td>carry door</td>\n",
       "      <td>3.110732e-02</td>\n",
       "    </tr>\n",
       "    <tr>\n",
       "      <th>169</th>\n",
       "      <td>pick door</td>\n",
       "      <td>3.110065e-02</td>\n",
       "    </tr>\n",
       "    <tr>\n",
       "      <th>86</th>\n",
       "      <td>leave door</td>\n",
       "      <td>3.101343e-02</td>\n",
       "    </tr>\n",
       "    <tr>\n",
       "      <th>5</th>\n",
       "      <td>play door</td>\n",
       "      <td>3.078046e-02</td>\n",
       "    </tr>\n",
       "    <tr>\n",
       "      <th>138</th>\n",
       "      <td>go southeast</td>\n",
       "      <td>3.040215e-02</td>\n",
       "    </tr>\n",
       "    <tr>\n",
       "      <th>60</th>\n",
       "      <td>enter door</td>\n",
       "      <td>3.002207e-02</td>\n",
       "    </tr>\n",
       "    <tr>\n",
       "      <th>246</th>\n",
       "      <td>go southwest</td>\n",
       "      <td>2.994739e-02</td>\n",
       "    </tr>\n",
       "    <tr>\n",
       "      <th>360</th>\n",
       "      <td>make door</td>\n",
       "      <td>2.961715e-02</td>\n",
       "    </tr>\n",
       "    <tr>\n",
       "      <th>313</th>\n",
       "      <td>pull door</td>\n",
       "      <td>2.947918e-02</td>\n",
       "    </tr>\n",
       "    <tr>\n",
       "      <th>210</th>\n",
       "      <td>give door</td>\n",
       "      <td>2.835733e-02</td>\n",
       "    </tr>\n",
       "    <tr>\n",
       "      <th>369</th>\n",
       "      <td>unlock door</td>\n",
       "      <td>2.814309e-02</td>\n",
       "    </tr>\n",
       "    <tr>\n",
       "      <th>395</th>\n",
       "      <td>eat door</td>\n",
       "      <td>2.776507e-02</td>\n",
       "    </tr>\n",
       "    <tr>\n",
       "      <th>329</th>\n",
       "      <td>feel door</td>\n",
       "      <td>2.723101e-02</td>\n",
       "    </tr>\n",
       "    <tr>\n",
       "      <th>165</th>\n",
       "      <td>ask door</td>\n",
       "      <td>2.510953e-02</td>\n",
       "    </tr>\n",
       "    <tr>\n",
       "      <th>406</th>\n",
       "      <td>fill door</td>\n",
       "      <td>2.354794e-02</td>\n",
       "    </tr>\n",
       "    <tr>\n",
       "      <th>189</th>\n",
       "      <td>wear door</td>\n",
       "      <td>1.971973e-02</td>\n",
       "    </tr>\n",
       "    <tr>\n",
       "      <th>222</th>\n",
       "      <td>set door</td>\n",
       "      <td>1.739018e-02</td>\n",
       "    </tr>\n",
       "    <tr>\n",
       "      <th>...</th>\n",
       "      <td>...</td>\n",
       "      <td>...</td>\n",
       "    </tr>\n",
       "    <tr>\n",
       "      <th>10</th>\n",
       "      <td>hide field under mailbox</td>\n",
       "      <td>3.464133e-22</td>\n",
       "    </tr>\n",
       "    <tr>\n",
       "      <th>105</th>\n",
       "      <td>hide house in mailbox</td>\n",
       "      <td>3.039344e-22</td>\n",
       "    </tr>\n",
       "    <tr>\n",
       "      <th>141</th>\n",
       "      <td>carry field from mailbox</td>\n",
       "      <td>2.342029e-22</td>\n",
       "    </tr>\n",
       "    <tr>\n",
       "      <th>119</th>\n",
       "      <td>hide house on mailbox</td>\n",
       "      <td>1.957036e-22</td>\n",
       "    </tr>\n",
       "    <tr>\n",
       "      <th>11</th>\n",
       "      <td>hide house under mailbox</td>\n",
       "      <td>1.820238e-22</td>\n",
       "    </tr>\n",
       "    <tr>\n",
       "      <th>240</th>\n",
       "      <td>dig house with mailbox</td>\n",
       "      <td>6.663607e-23</td>\n",
       "    </tr>\n",
       "    <tr>\n",
       "      <th>379</th>\n",
       "      <td>pour field in mailbox</td>\n",
       "      <td>4.973949e-23</td>\n",
       "    </tr>\n",
       "    <tr>\n",
       "      <th>324</th>\n",
       "      <td>pick field with mailbox</td>\n",
       "      <td>3.326793e-23</td>\n",
       "    </tr>\n",
       "    <tr>\n",
       "      <th>364</th>\n",
       "      <td>pour field on mailbox</td>\n",
       "      <td>3.035745e-23</td>\n",
       "    </tr>\n",
       "    <tr>\n",
       "      <th>79</th>\n",
       "      <td>pour field from mailbox</td>\n",
       "      <td>1.329049e-23</td>\n",
       "    </tr>\n",
       "    <tr>\n",
       "      <th>422</th>\n",
       "      <td>dig door with mailbox</td>\n",
       "      <td>2.693025e-24</td>\n",
       "    </tr>\n",
       "    <tr>\n",
       "      <th>311</th>\n",
       "      <td>move mailbox in field</td>\n",
       "      <td>9.246214e-25</td>\n",
       "    </tr>\n",
       "    <tr>\n",
       "      <th>440</th>\n",
       "      <td>hide mailbox on field</td>\n",
       "      <td>2.580603e-25</td>\n",
       "    </tr>\n",
       "    <tr>\n",
       "      <th>201</th>\n",
       "      <td>hide mailbox in field</td>\n",
       "      <td>1.180956e-25</td>\n",
       "    </tr>\n",
       "    <tr>\n",
       "      <th>343</th>\n",
       "      <td>spray house on mailbox</td>\n",
       "      <td>2.437936e-26</td>\n",
       "    </tr>\n",
       "    <tr>\n",
       "      <th>435</th>\n",
       "      <td>flip mailbox for field</td>\n",
       "      <td>1.450417e-26</td>\n",
       "    </tr>\n",
       "    <tr>\n",
       "      <th>50</th>\n",
       "      <td>flip door for field</td>\n",
       "      <td>3.163353e-27</td>\n",
       "    </tr>\n",
       "    <tr>\n",
       "      <th>85</th>\n",
       "      <td>flip mailbox with field</td>\n",
       "      <td>2.176545e-27</td>\n",
       "    </tr>\n",
       "    <tr>\n",
       "      <th>273</th>\n",
       "      <td>hide mailbox under field</td>\n",
       "      <td>1.215844e-27</td>\n",
       "    </tr>\n",
       "    <tr>\n",
       "      <th>294</th>\n",
       "      <td>spray field on mailbox</td>\n",
       "      <td>5.260983e-28</td>\n",
       "    </tr>\n",
       "    <tr>\n",
       "      <th>307</th>\n",
       "      <td>flip door with field</td>\n",
       "      <td>3.877442e-28</td>\n",
       "    </tr>\n",
       "    <tr>\n",
       "      <th>186</th>\n",
       "      <td>flip field for mailbox</td>\n",
       "      <td>2.328901e-28</td>\n",
       "    </tr>\n",
       "    <tr>\n",
       "      <th>123</th>\n",
       "      <td>burn door with mailbox</td>\n",
       "      <td>1.821542e-28</td>\n",
       "    </tr>\n",
       "    <tr>\n",
       "      <th>135</th>\n",
       "      <td>flip field with mailbox</td>\n",
       "      <td>8.301428e-29</td>\n",
       "    </tr>\n",
       "    <tr>\n",
       "      <th>346</th>\n",
       "      <td>squeeze field on mailbox</td>\n",
       "      <td>2.726524e-31</td>\n",
       "    </tr>\n",
       "    <tr>\n",
       "      <th>314</th>\n",
       "      <td>fix field with mailbox</td>\n",
       "      <td>5.313967e-32</td>\n",
       "    </tr>\n",
       "    <tr>\n",
       "      <th>378</th>\n",
       "      <td>flip house with mailbox</td>\n",
       "      <td>2.293327e-32</td>\n",
       "    </tr>\n",
       "    <tr>\n",
       "      <th>36</th>\n",
       "      <td>flip house for mailbox</td>\n",
       "      <td>3.481853e-33</td>\n",
       "    </tr>\n",
       "    <tr>\n",
       "      <th>297</th>\n",
       "      <td>spray door on mailbox</td>\n",
       "      <td>7.373153e-34</td>\n",
       "    </tr>\n",
       "    <tr>\n",
       "      <th>330</th>\n",
       "      <td>cut field with mailbox</td>\n",
       "      <td>1.684256e-35</td>\n",
       "    </tr>\n",
       "  </tbody>\n",
       "</table>\n",
       "<p>442 rows × 2 columns</p>\n",
       "</div>"
      ],
      "text/plain": [
       "                       Action          Prob\n",
       "228                  go south  3.307232e-02\n",
       "196                   go west  3.305153e-02\n",
       "368                   go east  3.302998e-02\n",
       "125                  go north  3.302246e-02\n",
       "19                  open door  3.289401e-02\n",
       "251                   go door  3.288875e-02\n",
       "351                  get door  3.278160e-02\n",
       "287              go northwest  3.257438e-02\n",
       "389                 read door  3.239859e-02\n",
       "12                   put door  3.203310e-02\n",
       "96                  find door  3.200111e-02\n",
       "216                 wait door  3.188927e-02\n",
       "263              go northeast  3.119320e-02\n",
       "376                carry door  3.110732e-02\n",
       "169                 pick door  3.110065e-02\n",
       "86                 leave door  3.101343e-02\n",
       "5                   play door  3.078046e-02\n",
       "138              go southeast  3.040215e-02\n",
       "60                 enter door  3.002207e-02\n",
       "246              go southwest  2.994739e-02\n",
       "360                 make door  2.961715e-02\n",
       "313                 pull door  2.947918e-02\n",
       "210                 give door  2.835733e-02\n",
       "369               unlock door  2.814309e-02\n",
       "395                  eat door  2.776507e-02\n",
       "329                 feel door  2.723101e-02\n",
       "165                  ask door  2.510953e-02\n",
       "406                 fill door  2.354794e-02\n",
       "189                 wear door  1.971973e-02\n",
       "222                  set door  1.739018e-02\n",
       "..                        ...           ...\n",
       "10   hide field under mailbox  3.464133e-22\n",
       "105     hide house in mailbox  3.039344e-22\n",
       "141  carry field from mailbox  2.342029e-22\n",
       "119     hide house on mailbox  1.957036e-22\n",
       "11   hide house under mailbox  1.820238e-22\n",
       "240    dig house with mailbox  6.663607e-23\n",
       "379     pour field in mailbox  4.973949e-23\n",
       "324   pick field with mailbox  3.326793e-23\n",
       "364     pour field on mailbox  3.035745e-23\n",
       "79    pour field from mailbox  1.329049e-23\n",
       "422     dig door with mailbox  2.693025e-24\n",
       "311     move mailbox in field  9.246214e-25\n",
       "440     hide mailbox on field  2.580603e-25\n",
       "201     hide mailbox in field  1.180956e-25\n",
       "343    spray house on mailbox  2.437936e-26\n",
       "435    flip mailbox for field  1.450417e-26\n",
       "50        flip door for field  3.163353e-27\n",
       "85    flip mailbox with field  2.176545e-27\n",
       "273  hide mailbox under field  1.215844e-27\n",
       "294    spray field on mailbox  5.260983e-28\n",
       "307      flip door with field  3.877442e-28\n",
       "186    flip field for mailbox  2.328901e-28\n",
       "123    burn door with mailbox  1.821542e-28\n",
       "135   flip field with mailbox  8.301428e-29\n",
       "346  squeeze field on mailbox  2.726524e-31\n",
       "314    fix field with mailbox  5.313967e-32\n",
       "378   flip house with mailbox  2.293327e-32\n",
       "36     flip house for mailbox  3.481853e-33\n",
       "297     spray door on mailbox  7.373153e-34\n",
       "330    cut field with mailbox  1.684256e-35\n",
       "\n",
       "[442 rows x 2 columns]"
      ]
     },
     "execution_count": 296,
     "metadata": {},
     "output_type": "execute_result"
    }
   ],
   "source": [
    "df.sort_values(by='Prob', ascending=False)"
   ]
  },
  {
   "cell_type": "code",
   "execution_count": 297,
   "metadata": {},
   "outputs": [
    {
     "data": {
      "text/html": [
       "<div>\n",
       "<style scoped>\n",
       "    .dataframe tbody tr th:only-of-type {\n",
       "        vertical-align: middle;\n",
       "    }\n",
       "\n",
       "    .dataframe tbody tr th {\n",
       "        vertical-align: top;\n",
       "    }\n",
       "\n",
       "    .dataframe thead th {\n",
       "        text-align: right;\n",
       "    }\n",
       "</style>\n",
       "<table border=\"1\" class=\"dataframe\">\n",
       "  <thead>\n",
       "    <tr style=\"text-align: right;\">\n",
       "      <th></th>\n",
       "      <th>Action</th>\n",
       "      <th>Prob</th>\n",
       "    </tr>\n",
       "  </thead>\n",
       "  <tbody>\n",
       "    <tr>\n",
       "      <th>61</th>\n",
       "      <td>open mailbox</td>\n",
       "      <td>3.111646e-07</td>\n",
       "    </tr>\n",
       "  </tbody>\n",
       "</table>\n",
       "</div>"
      ],
      "text/plain": [
       "          Action          Prob\n",
       "61  open mailbox  3.111646e-07"
      ]
     },
     "execution_count": 297,
     "metadata": {},
     "output_type": "execute_result"
    }
   ],
   "source": [
    "df[df.Action == 'open mailbox']"
   ]
  },
  {
   "cell_type": "code",
   "execution_count": 298,
   "metadata": {},
   "outputs": [
    {
     "data": {
      "text/plain": [
       "0.0022624434389140274"
      ]
     },
     "execution_count": 298,
     "metadata": {},
     "output_type": "execute_result"
    }
   ],
   "source": [
    "df.Prob.mean()"
   ]
  },
  {
   "cell_type": "code",
   "execution_count": 50,
   "metadata": {},
   "outputs": [],
   "source": [
    "model.save('tutorial.model')"
   ]
  },
  {
   "cell_type": "code",
   "execution_count": 52,
   "metadata": {},
   "outputs": [],
   "source": [
    "model = buildWord2VecModel()"
   ]
  },
  {
   "cell_type": "code",
   "execution_count": 55,
   "metadata": {},
   "outputs": [
    {
     "name": "stderr",
     "output_type": "stream",
     "text": [
      "C:\\Users\\sparr\\Anaconda3\\lib\\site-packages\\ipykernel_launcher.py:1: DeprecationWarning: Call to deprecated `similarity` (Method will be removed in 4.0.0, use self.wv.similarity() instead).\n",
      "  \"\"\"Entry point for launching an IPython kernel.\n"
     ]
    },
    {
     "data": {
      "text/plain": [
       "0.9984921"
      ]
     },
     "execution_count": 55,
     "metadata": {},
     "output_type": "execute_result"
    }
   ],
   "source": [
    "model.similarity('open', 'door')"
   ]
  },
  {
   "cell_type": "code",
   "execution_count": 109,
   "metadata": {},
   "outputs": [],
   "source": [
    "kill_game(p)\n"
   ]
  }
 ],
 "metadata": {
  "kernelspec": {
   "display_name": "Python 3",
   "language": "python",
   "name": "python3"
  },
  "language_info": {
   "codemirror_mode": {
    "name": "ipython",
    "version": 3
   },
   "file_extension": ".py",
   "mimetype": "text/x-python",
   "name": "python",
   "nbconvert_exporter": "python",
   "pygments_lexer": "ipython3",
   "version": "3.6.7"
  }
 },
 "nbformat": 4,
 "nbformat_minor": 2
}
